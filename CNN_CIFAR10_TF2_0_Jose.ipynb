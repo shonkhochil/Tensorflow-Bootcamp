{
  "nbformat": 4,
  "nbformat_minor": 0,
  "metadata": {
    "colab": {
      "name": "CNN_CIFAR10_TF2.0_Jose.ipynb",
      "provenance": [],
      "collapsed_sections": [],
      "authorship_tag": "ABX9TyOXzJlom0KM7PIl7UWMRBAi",
      "include_colab_link": true
    },
    "kernelspec": {
      "name": "python3",
      "display_name": "Python 3"
    }
  },
  "cells": [
    {
      "cell_type": "markdown",
      "metadata": {
        "id": "view-in-github",
        "colab_type": "text"
      },
      "source": [
        "<a href=\"https://colab.research.google.com/github/shonkhochil/Tensorflow-Bootcamp/blob/master/CNN_CIFAR10_TF2_0_Jose.ipynb\" target=\"_parent\"><img src=\"https://colab.research.google.com/assets/colab-badge.svg\" alt=\"Open In Colab\"/></a>"
      ]
    },
    {
      "cell_type": "code",
      "metadata": {
        "id": "Cpr-R8bIsseh",
        "colab_type": "code",
        "colab": {}
      },
      "source": [
        "import pandas as pd\n",
        "import numpy as np\n",
        "import matplotlib.pyplot as plt"
      ],
      "execution_count": null,
      "outputs": []
    },
    {
      "cell_type": "code",
      "metadata": {
        "id": "IP_wojwZs02o",
        "colab_type": "code",
        "colab": {}
      },
      "source": [
        "from tensorflow.keras.datasets import cifar10"
      ],
      "execution_count": null,
      "outputs": []
    },
    {
      "cell_type": "code",
      "metadata": {
        "id": "2UDJDvNYs7ie",
        "colab_type": "code",
        "colab": {
          "base_uri": "https://localhost:8080/",
          "height": 51
        },
        "outputId": "69118877-5156-4a3a-d46c-78a4aa108edd"
      },
      "source": [
        "(x_train, y_train), (x_test, y_test) = cifar10.load_data()"
      ],
      "execution_count": null,
      "outputs": [
        {
          "output_type": "stream",
          "text": [
            "Downloading data from https://www.cs.toronto.edu/~kriz/cifar-10-python.tar.gz\n",
            "170500096/170498071 [==============================] - 4s 0us/step\n"
          ],
          "name": "stdout"
        }
      ]
    },
    {
      "cell_type": "code",
      "metadata": {
        "id": "hK4FAl0StAb1",
        "colab_type": "code",
        "colab": {
          "base_uri": "https://localhost:8080/",
          "height": 34
        },
        "outputId": "14a0518b-7b53-4da0-ad79-ff5253ed0973"
      },
      "source": [
        "x_train.shape"
      ],
      "execution_count": null,
      "outputs": [
        {
          "output_type": "execute_result",
          "data": {
            "text/plain": [
              "(50000, 32, 32, 3)"
            ]
          },
          "metadata": {
            "tags": []
          },
          "execution_count": 4
        }
      ]
    },
    {
      "cell_type": "code",
      "metadata": {
        "id": "tyGa-LNxtCXN",
        "colab_type": "code",
        "colab": {
          "base_uri": "https://localhost:8080/",
          "height": 34
        },
        "outputId": "e9b38a08-d23a-4bbc-d3ae-a5000716ce4b"
      },
      "source": [
        "x_test.shape"
      ],
      "execution_count": null,
      "outputs": [
        {
          "output_type": "execute_result",
          "data": {
            "text/plain": [
              "(10000, 32, 32, 3)"
            ]
          },
          "metadata": {
            "tags": []
          },
          "execution_count": 5
        }
      ]
    },
    {
      "cell_type": "code",
      "metadata": {
        "id": "kYyxUt9xtD_k",
        "colab_type": "code",
        "colab": {}
      },
      "source": [
        "x_train = x_train/255"
      ],
      "execution_count": null,
      "outputs": []
    },
    {
      "cell_type": "code",
      "metadata": {
        "id": "Qo4ukVsFtK8k",
        "colab_type": "code",
        "colab": {}
      },
      "source": [
        "x_test = x_test/255"
      ],
      "execution_count": null,
      "outputs": []
    },
    {
      "cell_type": "code",
      "metadata": {
        "id": "bSECzxertMt1",
        "colab_type": "code",
        "colab": {}
      },
      "source": [
        "from tensorflow.keras.utils import to_categorical"
      ],
      "execution_count": null,
      "outputs": []
    },
    {
      "cell_type": "code",
      "metadata": {
        "id": "Fi3WgBVstS6k",
        "colab_type": "code",
        "colab": {}
      },
      "source": [
        "y_cat_train = to_categorical(y_train,10)"
      ],
      "execution_count": null,
      "outputs": []
    },
    {
      "cell_type": "code",
      "metadata": {
        "id": "l_PwjVNXtW5V",
        "colab_type": "code",
        "colab": {}
      },
      "source": [
        "y_cat_test = to_categorical(y_test,10)"
      ],
      "execution_count": null,
      "outputs": []
    },
    {
      "cell_type": "code",
      "metadata": {
        "id": "HuwiSaeytdob",
        "colab_type": "code",
        "colab": {}
      },
      "source": [
        "from tensorflow.keras.models import Sequential\n",
        "from tensorflow.keras.layers import Dense, Conv2D, MaxPool2D, Flatten"
      ],
      "execution_count": null,
      "outputs": []
    },
    {
      "cell_type": "code",
      "metadata": {
        "id": "faVQpXvetrvU",
        "colab_type": "code",
        "colab": {}
      },
      "source": [
        "model = Sequential()\n",
        "\n",
        "model.add(Conv2D(filters=32, kernel_size=(4,4), input_shape=(32,32,3),activation='relu'))\n",
        "model.add(MaxPool2D(pool_size=(2,2)))\n",
        "model.add(Conv2D(filters=32, kernel_size=(4,4), input_shape=(32,32,3),activation='relu'))\n",
        "model.add(MaxPool2D(pool_size=(2,2)))\n",
        "\n",
        "model.add(Flatten())\n",
        "\n",
        "model.add(Dense(128, activation='relu'))\n",
        "\n",
        "model.add(Dense(10, activation='softmax'))\n",
        "\n",
        "model.compile(loss='categorical_crossentropy', optimizer='adam',\n",
        "              metrics=['accuracy'])"
      ],
      "execution_count": null,
      "outputs": []
    },
    {
      "cell_type": "code",
      "metadata": {
        "id": "6ZdTqXYDt9kU",
        "colab_type": "code",
        "colab": {
          "base_uri": "https://localhost:8080/",
          "height": 391
        },
        "outputId": "bc58b21e-5248-4c71-dbe6-a4079ca4a1c8"
      },
      "source": [
        "model.summary()"
      ],
      "execution_count": null,
      "outputs": [
        {
          "output_type": "stream",
          "text": [
            "Model: \"sequential_3\"\n",
            "_________________________________________________________________\n",
            "Layer (type)                 Output Shape              Param #   \n",
            "=================================================================\n",
            "conv2d_3 (Conv2D)            (None, 29, 29, 32)        1568      \n",
            "_________________________________________________________________\n",
            "max_pooling2d_3 (MaxPooling2 (None, 14, 14, 32)        0         \n",
            "_________________________________________________________________\n",
            "conv2d_4 (Conv2D)            (None, 11, 11, 32)        16416     \n",
            "_________________________________________________________________\n",
            "max_pooling2d_4 (MaxPooling2 (None, 5, 5, 32)          0         \n",
            "_________________________________________________________________\n",
            "flatten_3 (Flatten)          (None, 800)               0         \n",
            "_________________________________________________________________\n",
            "dense_6 (Dense)              (None, 128)               102528    \n",
            "_________________________________________________________________\n",
            "dense_7 (Dense)              (None, 10)                1290      \n",
            "=================================================================\n",
            "Total params: 121,802\n",
            "Trainable params: 121,802\n",
            "Non-trainable params: 0\n",
            "_________________________________________________________________\n"
          ],
          "name": "stdout"
        }
      ]
    },
    {
      "cell_type": "code",
      "metadata": {
        "id": "djA3LRc5uBW6",
        "colab_type": "code",
        "colab": {}
      },
      "source": [
        "from tensorflow.keras.callbacks import EarlyStopping"
      ],
      "execution_count": null,
      "outputs": []
    },
    {
      "cell_type": "code",
      "metadata": {
        "id": "o6JkUHN1uIRx",
        "colab_type": "code",
        "colab": {}
      },
      "source": [
        "early_stop = EarlyStopping(monitor='val_loss', patience=2)"
      ],
      "execution_count": null,
      "outputs": []
    },
    {
      "cell_type": "code",
      "metadata": {
        "id": "48RrusILuMy0",
        "colab_type": "code",
        "colab": {
          "base_uri": "https://localhost:8080/",
          "height": 340
        },
        "outputId": "a1cfb3fe-e000-457b-d839-dc581f991992"
      },
      "source": [
        "model.fit(x_train, y_cat_train, epochs=10,\n",
        "          validation_data=(x_test, y_cat_test), callbacks=[early_stop])"
      ],
      "execution_count": null,
      "outputs": [
        {
          "output_type": "stream",
          "text": [
            "Epoch 1/10\n",
            "1563/1563 [==============================] - 61s 39ms/step - loss: 1.5708 - accuracy: 0.4272 - val_loss: 1.2973 - val_accuracy: 0.5313\n",
            "Epoch 2/10\n",
            "1563/1563 [==============================] - 58s 37ms/step - loss: 1.2617 - accuracy: 0.5536 - val_loss: 1.2127 - val_accuracy: 0.5707\n",
            "Epoch 3/10\n",
            "1563/1563 [==============================] - 58s 37ms/step - loss: 1.1434 - accuracy: 0.5964 - val_loss: 1.1598 - val_accuracy: 0.5834\n",
            "Epoch 4/10\n",
            "1563/1563 [==============================] - 58s 37ms/step - loss: 1.0530 - accuracy: 0.6319 - val_loss: 1.0880 - val_accuracy: 0.6143\n",
            "Epoch 5/10\n",
            "1563/1563 [==============================] - 58s 37ms/step - loss: 0.9831 - accuracy: 0.6559 - val_loss: 1.0042 - val_accuracy: 0.6499\n",
            "Epoch 6/10\n",
            "1563/1563 [==============================] - 59s 38ms/step - loss: 0.9229 - accuracy: 0.6773 - val_loss: 1.0332 - val_accuracy: 0.6434\n",
            "Epoch 7/10\n",
            "1563/1563 [==============================] - 59s 38ms/step - loss: 0.8780 - accuracy: 0.6920 - val_loss: 0.9662 - val_accuracy: 0.6669\n",
            "Epoch 8/10\n",
            "1563/1563 [==============================] - 59s 38ms/step - loss: 0.8333 - accuracy: 0.7088 - val_loss: 0.9725 - val_accuracy: 0.6602\n",
            "Epoch 9/10\n",
            "1563/1563 [==============================] - 58s 37ms/step - loss: 0.7976 - accuracy: 0.7183 - val_loss: 0.9965 - val_accuracy: 0.6621\n"
          ],
          "name": "stdout"
        },
        {
          "output_type": "execute_result",
          "data": {
            "text/plain": [
              "<tensorflow.python.keras.callbacks.History at 0x7fc2f1c49cf8>"
            ]
          },
          "metadata": {
            "tags": []
          },
          "execution_count": 33
        }
      ]
    },
    {
      "cell_type": "code",
      "metadata": {
        "id": "cmhvEL1TvYbe",
        "colab_type": "code",
        "colab": {
          "base_uri": "https://localhost:8080/",
          "height": 187
        },
        "outputId": "725567dd-1267-4d2d-b53c-956c699510ee"
      },
      "source": [
        "metrics = pd.DataFrame(model.history.history)\n",
        "print(metrics)"
      ],
      "execution_count": null,
      "outputs": [
        {
          "output_type": "stream",
          "text": [
            "       loss  accuracy  val_loss  val_accuracy\n",
            "0  1.570795   0.42724  1.297295        0.5313\n",
            "1  1.261702   0.55364  1.212659        0.5707\n",
            "2  1.143399   0.59636  1.159828        0.5834\n",
            "3  1.052994   0.63190  1.088005        0.6143\n",
            "4  0.983134   0.65590  1.004196        0.6499\n",
            "5  0.922850   0.67728  1.033200        0.6434\n",
            "6  0.878039   0.69198  0.966163        0.6669\n",
            "7  0.833288   0.70876  0.972532        0.6602\n",
            "8  0.797615   0.71832  0.996479        0.6621\n"
          ],
          "name": "stdout"
        }
      ]
    },
    {
      "cell_type": "code",
      "metadata": {
        "id": "8xteyAFpvhuW",
        "colab_type": "code",
        "colab": {
          "base_uri": "https://localhost:8080/",
          "height": 284
        },
        "outputId": "faac1536-8a8f-45d4-eaf9-16d62d15f02c"
      },
      "source": [
        "metrics[['loss', 'val_loss']].plot()"
      ],
      "execution_count": null,
      "outputs": [
        {
          "output_type": "execute_result",
          "data": {
            "text/plain": [
              "<matplotlib.axes._subplots.AxesSubplot at 0x7fc2f1347550>"
            ]
          },
          "metadata": {
            "tags": []
          },
          "execution_count": 35
        },
        {
          "output_type": "display_data",
          "data": {
            "image/png": "[encoded data removed]",
            "text/plain": [
              "<Figure size 432x288 with 1 Axes>"
            ]
          },
          "metadata": {
            "tags": [],
            "needs_background": "light"
          }
        }
      ]
    },
    {
      "cell_type": "code",
      "metadata": {
        "id": "wR6ACjmdvoOk",
        "colab_type": "code",
        "colab": {
          "base_uri": "https://localhost:8080/",
          "height": 282
        },
        "outputId": "a04988c8-e4fe-4a79-c66b-d58bd022c94e"
      },
      "source": [
        "metrics[['accuracy','val_accuracy']].plot()"
      ],
      "execution_count": null,
      "outputs": [
        {
          "output_type": "execute_result",
          "data": {
            "text/plain": [
              "<matplotlib.axes._subplots.AxesSubplot at 0x7fc2f1362860>"
            ]
          },
          "metadata": {
            "tags": []
          },
          "execution_count": 36
        },
        {
          "output_type": "display_data",
          "data": {
            "image/png": "[encoded data removed]",
            "text/plain": [
              "<Figure size 432x288 with 1 Axes>"
            ]
          },
          "metadata": {
            "tags": [],
            "needs_background": "light"
          }
        }
      ]
    },
    {
      "cell_type": "code",
      "metadata": {
        "id": "Gbu7q69avuEu",
        "colab_type": "code",
        "colab": {
          "base_uri": "https://localhost:8080/",
          "height": 34
        },
        "outputId": "6442e9eb-3279-40f0-ce8e-f1ebdfd34b6c"
      },
      "source": [
        "model.evaluate(x_test, y_cat_test, verbose=0)"
      ],
      "execution_count": null,
      "outputs": [
        {
          "output_type": "execute_result",
          "data": {
            "text/plain": [
              "[0.9964792132377625, 0.6621000170707703]"
            ]
          },
          "metadata": {
            "tags": []
          },
          "execution_count": 37
        }
      ]
    },
    {
      "cell_type": "code",
      "metadata": {
        "id": "KY6rvk-Av2KE",
        "colab_type": "code",
        "colab": {}
      },
      "source": [
        "from sklearn.metrics import classification_report, confusion_matrix"
      ],
      "execution_count": null,
      "outputs": []
    },
    {
      "cell_type": "code",
      "metadata": {
        "id": "7mCD9bdyv_tM",
        "colab_type": "code",
        "colab": {}
      },
      "source": [
        "predictions = model.predict_classes(x_test)"
      ],
      "execution_count": null,
      "outputs": []
    },
    {
      "cell_type": "code",
      "metadata": {
        "id": "Bhxvt6mSwDrb",
        "colab_type": "code",
        "colab": {
          "base_uri": "https://localhost:8080/",
          "height": 306
        },
        "outputId": "18167fd1-c2b2-416e-ae09-55ecaf8ddfc8"
      },
      "source": [
        "print(classification_report(y_test, predictions))"
      ],
      "execution_count": null,
      "outputs": [
        {
          "output_type": "stream",
          "text": [
            "              precision    recall  f1-score   support\n",
            "\n",
            "           0       0.70      0.73      0.72      1000\n",
            "           1       0.77      0.79      0.78      1000\n",
            "           2       0.66      0.44      0.53      1000\n",
            "           3       0.46      0.46      0.46      1000\n",
            "           4       0.55      0.66      0.60      1000\n",
            "           5       0.53      0.62      0.57      1000\n",
            "           6       0.67      0.81      0.74      1000\n",
            "           7       0.73      0.70      0.71      1000\n",
            "           8       0.81      0.73      0.76      1000\n",
            "           9       0.80      0.68      0.73      1000\n",
            "\n",
            "    accuracy                           0.66     10000\n",
            "   macro avg       0.67      0.66      0.66     10000\n",
            "weighted avg       0.67      0.66      0.66     10000\n",
            "\n"
          ],
          "name": "stdout"
        }
      ]
    },
    {
      "cell_type": "code",
      "metadata": {
        "id": "Ta3o0RwQwKBy",
        "colab_type": "code",
        "colab": {
          "base_uri": "https://localhost:8080/",
          "height": 187
        },
        "outputId": "eebe5b2d-08e6-4774-f57e-aabe209cc98d"
      },
      "source": [
        "print(confusion_matrix(y_test, predictions))"
      ],
      "execution_count": null,
      "outputs": [
        {
          "output_type": "stream",
          "text": [
            "[[735  25  34  38  31  13  18   7  63  36]\n",
            " [ 31 793   6  28   7   8  19   6  28  74]\n",
            " [ 72   5 439  67 144 109 100  43  13   8]\n",
            " [ 21   8  29 455 102 229 102  40  10   4]\n",
            " [ 32   4  50  55 662  48  67  70  10   2]\n",
            " [  9   7  34 145  75 623  45  55   3   4]\n",
            " [  7   2  32  58  49  29 814   6   3   0]\n",
            " [ 13   1  13  54  96  86  18 698   7  14]\n",
            " [ 87  62  16  39  16  11   9   8 727  25]\n",
            " [ 40 120  11  43  17  11  22  22  39 675]]\n"
          ],
          "name": "stdout"
        }
      ]
    },
    {
      "cell_type": "code",
      "metadata": {
        "id": "KerYHYQ_wOQz",
        "colab_type": "code",
        "colab": {}
      },
      "source": [
        ""
      ],
      "execution_count": null,
      "outputs": []
    }
  ]
}