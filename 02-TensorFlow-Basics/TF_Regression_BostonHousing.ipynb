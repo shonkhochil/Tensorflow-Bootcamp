{
 "cells": [
  {
   "cell_type": "code",
   "execution_count": 1,
   "metadata": {
    "collapsed": true
   },
   "outputs": [],
   "source": [
    "import pandas as pd"
   ]
  },
  {
   "cell_type": "code",
   "execution_count": 2,
   "metadata": {
    "collapsed": true
   },
   "outputs": [],
   "source": [
    "housing = pd.read_csv('C:\\\\Users\\\\rhasan\\\\Downloads\\\\housing.csv')"
   ]
  },
  {
   "cell_type": "code",
   "execution_count": 3,
   "metadata": {},
   "outputs": [
    {
     "data": {
      "text/html": [
       "<div>\n",
       "<style>\n",
       "    .dataframe thead tr:only-child th {\n",
       "        text-align: right;\n",
       "    }\n",
       "\n",
       "    .dataframe thead th {\n",
       "        text-align: left;\n",
       "    }\n",
       "\n",
       "    .dataframe tbody tr th {\n",
       "        vertical-align: top;\n",
       "    }\n",
       "</style>\n",
       "<table border=\"1\" class=\"dataframe\">\n",
       "  <thead>\n",
       "    <tr style=\"text-align: right;\">\n",
       "      <th></th>\n",
       "      <th>RM</th>\n",
       "      <th>LSTAT</th>\n",
       "      <th>PTRATIO</th>\n",
       "      <th>MEDV</th>\n",
       "    </tr>\n",
       "  </thead>\n",
       "  <tbody>\n",
       "    <tr>\n",
       "      <th>0</th>\n",
       "      <td>6.575</td>\n",
       "      <td>4.98</td>\n",
       "      <td>15.3</td>\n",
       "      <td>504000.0</td>\n",
       "    </tr>\n",
       "    <tr>\n",
       "      <th>1</th>\n",
       "      <td>6.421</td>\n",
       "      <td>9.14</td>\n",
       "      <td>17.8</td>\n",
       "      <td>453600.0</td>\n",
       "    </tr>\n",
       "    <tr>\n",
       "      <th>2</th>\n",
       "      <td>7.185</td>\n",
       "      <td>4.03</td>\n",
       "      <td>17.8</td>\n",
       "      <td>728700.0</td>\n",
       "    </tr>\n",
       "    <tr>\n",
       "      <th>3</th>\n",
       "      <td>6.998</td>\n",
       "      <td>2.94</td>\n",
       "      <td>18.7</td>\n",
       "      <td>701400.0</td>\n",
       "    </tr>\n",
       "    <tr>\n",
       "      <th>4</th>\n",
       "      <td>7.147</td>\n",
       "      <td>5.33</td>\n",
       "      <td>18.7</td>\n",
       "      <td>760200.0</td>\n",
       "    </tr>\n",
       "  </tbody>\n",
       "</table>\n",
       "</div>"
      ],
      "text/plain": [
       "      RM  LSTAT  PTRATIO      MEDV\n",
       "0  6.575   4.98     15.3  504000.0\n",
       "1  6.421   9.14     17.8  453600.0\n",
       "2  7.185   4.03     17.8  728700.0\n",
       "3  6.998   2.94     18.7  701400.0\n",
       "4  7.147   5.33     18.7  760200.0"
      ]
     },
     "execution_count": 3,
     "metadata": {},
     "output_type": "execute_result"
    }
   ],
   "source": [
    "housing.head()"
   ]
  },
  {
   "cell_type": "code",
   "execution_count": 4,
   "metadata": {},
   "outputs": [
    {
     "data": {
      "text/plain": [
       "Index(['RM', 'LSTAT', 'PTRATIO', 'MEDV'], dtype='object')"
      ]
     },
     "execution_count": 4,
     "metadata": {},
     "output_type": "execute_result"
    }
   ],
   "source": [
    "housing.columns"
   ]
  },
  {
   "cell_type": "code",
   "execution_count": 5,
   "metadata": {
    "collapsed": true
   },
   "outputs": [],
   "source": [
    "x_data = housing.drop('MEDV', axis=1)"
   ]
  },
  {
   "cell_type": "code",
   "execution_count": 6,
   "metadata": {
    "collapsed": true
   },
   "outputs": [],
   "source": [
    "y_label = housing['MEDV']"
   ]
  },
  {
   "cell_type": "code",
   "execution_count": 7,
   "metadata": {
    "collapsed": true
   },
   "outputs": [],
   "source": [
    "from sklearn.model_selection import train_test_split"
   ]
  },
  {
   "cell_type": "code",
   "execution_count": 8,
   "metadata": {
    "collapsed": true
   },
   "outputs": [],
   "source": [
    "X_train, X_test, y_train, y_test = train_test_split(x_data, y_label, test_size=0.3, random_state=101)"
   ]
  },
  {
   "cell_type": "code",
   "execution_count": 14,
   "metadata": {},
   "outputs": [
    {
     "name": "stdout",
     "output_type": "stream",
     "text": [
      "(342, 3)\n",
      "(147, 3)\n",
      "(342,)\n",
      "(147,)\n"
     ]
    }
   ],
   "source": [
    "print(X_train.shape)\n",
    "print(X_test.shape)\n",
    "print(y_train.shape)\n",
    "print(y_test.shape)"
   ]
  },
  {
   "cell_type": "code",
   "execution_count": 9,
   "metadata": {
    "collapsed": true
   },
   "outputs": [],
   "source": [
    "from sklearn.preprocessing import MinMaxScaler"
   ]
  },
  {
   "cell_type": "code",
   "execution_count": 11,
   "metadata": {},
   "outputs": [],
   "source": [
    "scaler = MinMaxScaler()"
   ]
  },
  {
   "cell_type": "code",
   "execution_count": 12,
   "metadata": {},
   "outputs": [
    {
     "data": {
      "text/plain": [
       "MinMaxScaler(copy=True, feature_range=(0, 1))"
      ]
     },
     "execution_count": 12,
     "metadata": {},
     "output_type": "execute_result"
    }
   ],
   "source": [
    "scaler.fit(X_train)"
   ]
  },
  {
   "cell_type": "code",
   "execution_count": 15,
   "metadata": {
    "collapsed": true
   },
   "outputs": [],
   "source": [
    "X_train = pd.DataFrame(data=scaler.transform(X_train),columns=X_train.columns,index=X_train.index)"
   ]
  },
  {
   "cell_type": "code",
   "execution_count": 18,
   "metadata": {},
   "outputs": [],
   "source": [
    "X_test = pd.DataFrame(data=scaler.transform(X_test),columns=X_test.columns,index=X_test.index)"
   ]
  },
  {
   "cell_type": "code",
   "execution_count": 19,
   "metadata": {
    "collapsed": true
   },
   "outputs": [],
   "source": [
    "# Create Tensorflow feature columns"
   ]
  },
  {
   "cell_type": "code",
   "execution_count": 20,
   "metadata": {
    "collapsed": true
   },
   "outputs": [],
   "source": [
    "import tensorflow as tf"
   ]
  },
  {
   "cell_type": "code",
   "execution_count": 21,
   "metadata": {},
   "outputs": [
    {
     "data": {
      "text/plain": [
       "Index(['RM', 'LSTAT', 'PTRATIO', 'MEDV'], dtype='object')"
      ]
     },
     "execution_count": 21,
     "metadata": {},
     "output_type": "execute_result"
    }
   ],
   "source": [
    "housing.columns"
   ]
  },
  {
   "cell_type": "code",
   "execution_count": 23,
   "metadata": {
    "collapsed": true
   },
   "outputs": [],
   "source": [
    "room = tf.feature_column.numeric_column('RM')\n",
    "ss = tf.feature_column.numeric_column('LSTAT')\n",
    "pr = tf.feature_column.numeric_column('PTRATIO')"
   ]
  },
  {
   "cell_type": "code",
   "execution_count": 24,
   "metadata": {
    "collapsed": true
   },
   "outputs": [],
   "source": [
    "feat_cols = [room,ss,pr]"
   ]
  },
  {
   "cell_type": "code",
   "execution_count": 25,
   "metadata": {
    "collapsed": true
   },
   "outputs": [],
   "source": [
    "# Input function\n",
    "input_func = tf.estimator.inputs.pandas_input_fn(x=X_train,y=y_train,\n",
    "                                                batch_size=10,\n",
    "                                                num_epochs=1000,\n",
    "                                                shuffle=True)"
   ]
  },
  {
   "cell_type": "code",
   "execution_count": 26,
   "metadata": {},
   "outputs": [
    {
     "name": "stdout",
     "output_type": "stream",
     "text": [
      "INFO:tensorflow:Using default config.\n",
      "WARNING:tensorflow:Using temporary folder as model directory: C:\\Users\\rhasan\\AppData\\Local\\Temp\\tmp07wiam3l\n",
      "INFO:tensorflow:Using config: {'_model_dir': 'C:\\\\Users\\\\rhasan\\\\AppData\\\\Local\\\\Temp\\\\tmp07wiam3l', '_save_summary_steps': 100, '_tf_random_seed': 1, '_log_step_count_steps': 100, '_keep_checkpoint_every_n_hours': 10000, '_save_checkpoints_secs': 600, '_keep_checkpoint_max': 5, '_save_checkpoints_steps': None, '_session_config': None}\n"
     ]
    }
   ],
   "source": [
    "# Create a model\n",
    "model = tf.estimator.DNNRegressor(hidden_units=[6,6,6], feature_columns=feat_cols)"
   ]
  },
  {
   "cell_type": "code",
   "execution_count": 27,
   "metadata": {},
   "outputs": [
    {
     "name": "stdout",
     "output_type": "stream",
     "text": [
      "INFO:tensorflow:Create CheckpointSaverHook.\n",
      "INFO:tensorflow:Saving checkpoints for 1 into C:\\Users\\rhasan\\AppData\\Local\\Temp\\tmp07wiam3l\\model.ckpt.\n",
      "INFO:tensorflow:step = 1, loss = 1.45781e+12\n",
      "INFO:tensorflow:global_step/sec: 457.442\n",
      "INFO:tensorflow:step = 101, loss = 1.40747e+12 (0.218 sec)\n",
      "INFO:tensorflow:global_step/sec: 462.946\n",
      "INFO:tensorflow:step = 201, loss = 1.32079e+12 (0.231 sec)\n",
      "INFO:tensorflow:global_step/sec: 429.53\n",
      "INFO:tensorflow:step = 301, loss = 1.78093e+12 (0.233 sec)\n",
      "INFO:tensorflow:global_step/sec: 432.513\n",
      "INFO:tensorflow:step = 401, loss = 3.07747e+12 (0.216 sec)\n",
      "INFO:tensorflow:global_step/sec: 527.965\n",
      "INFO:tensorflow:step = 501, loss = 3.28818e+12 (0.222 sec)\n",
      "INFO:tensorflow:global_step/sec: 448.824\n",
      "INFO:tensorflow:step = 601, loss = 1.75705e+12 (0.206 sec)\n",
      "INFO:tensorflow:global_step/sec: 311.113\n",
      "INFO:tensorflow:step = 701, loss = 1.46302e+12 (0.311 sec)\n",
      "INFO:tensorflow:global_step/sec: 438.579\n",
      "INFO:tensorflow:step = 801, loss = 7.99606e+11 (0.225 sec)\n",
      "INFO:tensorflow:global_step/sec: 461.666\n",
      "INFO:tensorflow:step = 901, loss = 1.42523e+12 (0.231 sec)\n",
      "INFO:tensorflow:global_step/sec: 407.817\n",
      "INFO:tensorflow:step = 1001, loss = 8.92606e+11 (0.230 sec)\n",
      "INFO:tensorflow:global_step/sec: 431.383\n",
      "INFO:tensorflow:step = 1101, loss = 4.59276e+11 (0.231 sec)\n",
      "INFO:tensorflow:global_step/sec: 452.472\n",
      "INFO:tensorflow:step = 1201, loss = 4.42791e+11 (0.237 sec)\n",
      "INFO:tensorflow:global_step/sec: 298.659\n",
      "INFO:tensorflow:step = 1301, loss = 8.29035e+11 (0.335 sec)\n",
      "INFO:tensorflow:global_step/sec: 441.676\n",
      "INFO:tensorflow:step = 1401, loss = 2.08678e+11 (0.226 sec)\n",
      "INFO:tensorflow:global_step/sec: 429.167\n",
      "INFO:tensorflow:step = 1501, loss = 5.67241e+11 (0.233 sec)\n",
      "INFO:tensorflow:global_step/sec: 483.998\n",
      "INFO:tensorflow:step = 1601, loss = 4.46008e+11 (0.223 sec)\n",
      "INFO:tensorflow:global_step/sec: 389.695\n",
      "INFO:tensorflow:step = 1701, loss = 4.27003e+11 (0.240 sec)\n",
      "INFO:tensorflow:global_step/sec: 396.807\n",
      "INFO:tensorflow:step = 1801, loss = 6.29307e+11 (0.237 sec)\n",
      "INFO:tensorflow:global_step/sec: 473.917\n",
      "INFO:tensorflow:step = 1901, loss = 1.60829e+11 (0.211 sec)\n",
      "INFO:tensorflow:global_step/sec: 430.272\n",
      "INFO:tensorflow:step = 2001, loss = 3.54574e+11 (0.232 sec)\n",
      "INFO:tensorflow:global_step/sec: 371.719\n",
      "INFO:tensorflow:step = 2101, loss = 6.15812e+11 (0.296 sec)\n",
      "INFO:tensorflow:global_step/sec: 353.585\n",
      "INFO:tensorflow:step = 2201, loss = 1.68589e+11 (0.256 sec)\n",
      "INFO:tensorflow:global_step/sec: 469.902\n",
      "INFO:tensorflow:step = 2301, loss = 3.33834e+11 (0.244 sec)\n",
      "INFO:tensorflow:global_step/sec: 404.84\n",
      "INFO:tensorflow:step = 2401, loss = 3.26941e+11 (0.230 sec)\n",
      "INFO:tensorflow:global_step/sec: 427.693\n",
      "INFO:tensorflow:step = 2501, loss = 2.40787e+11 (0.234 sec)\n",
      "INFO:tensorflow:global_step/sec: 434.765\n",
      "INFO:tensorflow:step = 2601, loss = 3.88566e+11 (0.230 sec)\n",
      "INFO:tensorflow:global_step/sec: 450.433\n",
      "INFO:tensorflow:step = 2701, loss = 8.04799e+11 (0.222 sec)\n",
      "INFO:tensorflow:global_step/sec: 442.46\n",
      "INFO:tensorflow:step = 2801, loss = 3.95871e+11 (0.226 sec)\n",
      "INFO:tensorflow:global_step/sec: 494.534\n",
      "INFO:tensorflow:step = 2901, loss = 3.11816e+11 (0.200 sec)\n",
      "INFO:tensorflow:global_step/sec: 407.477\n",
      "INFO:tensorflow:step = 3001, loss = 6.19265e+11 (0.232 sec)\n",
      "INFO:tensorflow:global_step/sec: 462.087\n",
      "INFO:tensorflow:step = 3101, loss = 3.34889e+11 (0.232 sec)\n",
      "INFO:tensorflow:global_step/sec: 427.333\n",
      "INFO:tensorflow:step = 3201, loss = 6.8931e+11 (0.218 sec)\n",
      "INFO:tensorflow:global_step/sec: 468.583\n",
      "INFO:tensorflow:step = 3301, loss = 1.3911e+11 (0.229 sec)\n",
      "INFO:tensorflow:global_step/sec: 394.92\n",
      "INFO:tensorflow:step = 3401, loss = 4.07037e+11 (0.238 sec)\n",
      "INFO:tensorflow:global_step/sec: 473.017\n",
      "INFO:tensorflow:step = 3501, loss = 7.52132e+11 (0.227 sec)\n",
      "INFO:tensorflow:global_step/sec: 271.421\n",
      "INFO:tensorflow:step = 3601, loss = 3.63489e+11 (0.369 sec)\n",
      "INFO:tensorflow:global_step/sec: 408.815\n",
      "INFO:tensorflow:step = 3701, loss = 3.77772e+11 (0.259 sec)\n",
      "INFO:tensorflow:global_step/sec: 261.354\n",
      "INFO:tensorflow:step = 3801, loss = 3.79901e+11 (0.367 sec)\n",
      "INFO:tensorflow:global_step/sec: 502.995\n",
      "INFO:tensorflow:step = 3901, loss = 2.21012e+11 (0.183 sec)\n",
      "INFO:tensorflow:global_step/sec: 492.1\n",
      "INFO:tensorflow:step = 4001, loss = 3.10765e+11 (0.204 sec)\n",
      "INFO:tensorflow:global_step/sec: 472.12\n",
      "INFO:tensorflow:step = 4101, loss = 7.20302e+10 (0.212 sec)\n",
      "INFO:tensorflow:global_step/sec: 547.615\n",
      "INFO:tensorflow:step = 4201, loss = 4.50575e+11 (0.197 sec)\n",
      "INFO:tensorflow:global_step/sec: 556.762\n",
      "INFO:tensorflow:step = 4301, loss = 3.08365e+11 (0.176 sec)\n",
      "INFO:tensorflow:global_step/sec: 456.576\n",
      "INFO:tensorflow:step = 4401, loss = 7.0883e+11 (0.222 sec)\n",
      "INFO:tensorflow:global_step/sec: 487.756\n",
      "INFO:tensorflow:step = 4501, loss = 1.73133e+11 (0.201 sec)\n",
      "INFO:tensorflow:global_step/sec: 476.158\n",
      "INFO:tensorflow:step = 4601, loss = 1.81016e+11 (0.213 sec)\n",
      "INFO:tensorflow:global_step/sec: 350.357\n",
      "INFO:tensorflow:step = 4701, loss = 2.20125e+11 (0.272 sec)\n",
      "INFO:tensorflow:global_step/sec: 377.04\n",
      "INFO:tensorflow:step = 4801, loss = 2.08495e+11 (0.280 sec)\n",
      "INFO:tensorflow:global_step/sec: 407.127\n",
      "INFO:tensorflow:step = 4901, loss = 1.40553e+11 (0.244 sec)\n",
      "INFO:tensorflow:global_step/sec: 469.887\n",
      "INFO:tensorflow:step = 5001, loss = 8.50078e+11 (0.213 sec)\n",
      "INFO:tensorflow:global_step/sec: 352.584\n",
      "INFO:tensorflow:step = 5101, loss = 2.13204e+11 (0.270 sec)\n",
      "INFO:tensorflow:global_step/sec: 373.381\n",
      "INFO:tensorflow:step = 5201, loss = 2.58534e+11 (0.283 sec)\n",
      "INFO:tensorflow:global_step/sec: 412.162\n",
      "INFO:tensorflow:step = 5301, loss = 3.44262e+11 (0.243 sec)\n",
      "INFO:tensorflow:global_step/sec: 243.644\n",
      "INFO:tensorflow:step = 5401, loss = 2.19451e+11 (0.401 sec)\n",
      "INFO:tensorflow:global_step/sec: 523.527\n",
      "INFO:tensorflow:step = 5501, loss = 1.67678e+11 (0.185 sec)\n",
      "INFO:tensorflow:global_step/sec: 406.463\n",
      "INFO:tensorflow:step = 5601, loss = 2.08773e+11 (0.257 sec)\n",
      "INFO:tensorflow:global_step/sec: 498.474\n",
      "INFO:tensorflow:step = 5701, loss = 3.5687e+11 (0.189 sec)\n",
      "INFO:tensorflow:global_step/sec: 421.548\n",
      "INFO:tensorflow:step = 5801, loss = 2.92668e+11 (0.253 sec)\n",
      "INFO:tensorflow:global_step/sec: 515.955\n",
      "INFO:tensorflow:step = 5901, loss = 3.95416e+11 (0.193 sec)\n",
      "INFO:tensorflow:global_step/sec: 452.443\n",
      "INFO:tensorflow:step = 6001, loss = 2.2065e+11 (0.222 sec)\n",
      "INFO:tensorflow:global_step/sec: 425.489\n",
      "INFO:tensorflow:step = 6101, loss = 2.23081e+11 (0.230 sec)\n",
      "INFO:tensorflow:global_step/sec: 524.629\n",
      "INFO:tensorflow:step = 6201, loss = 2.2826e+11 (0.180 sec)\n",
      "INFO:tensorflow:global_step/sec: 600.21\n",
      "INFO:tensorflow:step = 6301, loss = 5.67583e+11 (0.167 sec)\n",
      "INFO:tensorflow:global_step/sec: 607.502\n",
      "INFO:tensorflow:step = 6401, loss = 2.19653e+11 (0.180 sec)\n",
      "INFO:tensorflow:global_step/sec: 600.21\n",
      "INFO:tensorflow:step = 6501, loss = 4.36012e+11 (0.167 sec)\n",
      "INFO:tensorflow:global_step/sec: 538.171\n",
      "INFO:tensorflow:step = 6601, loss = 1.57528e+11 (0.170 sec)\n",
      "INFO:tensorflow:global_step/sec: 620.322\n",
      "INFO:tensorflow:step = 6701, loss = 5.39453e+11 (0.177 sec)\n",
      "INFO:tensorflow:global_step/sec: 535.875\n",
      "INFO:tensorflow:step = 6801, loss = 3.01042e+11 (0.171 sec)\n",
      "INFO:tensorflow:global_step/sec: 667.509\n",
      "INFO:tensorflow:step = 6901, loss = 2.55142e+11 (0.182 sec)\n",
      "INFO:tensorflow:global_step/sec: 551.25\n",
      "INFO:tensorflow:step = 7001, loss = 3.47081e+11 (0.149 sec)\n",
      "INFO:tensorflow:global_step/sec: 558.009\n",
      "INFO:tensorflow:step = 7101, loss = 2.19698e+11 (0.179 sec)\n",
      "INFO:tensorflow:global_step/sec: 590.279\n",
      "INFO:tensorflow:step = 7201, loss = 2.80338e+11 (0.169 sec)\n",
      "INFO:tensorflow:global_step/sec: 555.521\n",
      "INFO:tensorflow:step = 7301, loss = 3.31928e+11 (0.180 sec)\n",
      "INFO:tensorflow:global_step/sec: 551.85\n",
      "INFO:tensorflow:step = 7401, loss = 2.5357e+11 (0.181 sec)\n",
      "INFO:tensorflow:global_step/sec: 595.203\n",
      "INFO:tensorflow:step = 7501, loss = 6.47845e+11 (0.168 sec)\n",
      "INFO:tensorflow:global_step/sec: 500.972\n",
      "INFO:tensorflow:step = 7601, loss = 2.51723e+11 (0.200 sec)\n",
      "INFO:tensorflow:global_step/sec: 606.026\n",
      "INFO:tensorflow:step = 7701, loss = 3.50314e+11 (0.181 sec)\n",
      "INFO:tensorflow:global_step/sec: 602.374\n",
      "INFO:tensorflow:step = 7801, loss = 2.17706e+11 (0.150 sec)\n",
      "INFO:tensorflow:global_step/sec: 611.216\n",
      "INFO:tensorflow:step = 7901, loss = 2.24073e+11 (0.179 sec)\n",
      "INFO:tensorflow:global_step/sec: 464.233\n",
      "INFO:tensorflow:step = 8001, loss = 3.67761e+11 (0.200 sec)\n"
     ]
    },
    {
     "name": "stdout",
     "output_type": "stream",
     "text": [
      "INFO:tensorflow:global_step/sec: 537.011\n",
      "INFO:tensorflow:step = 8101, loss = 1.2174e+11 (0.202 sec)\n",
      "INFO:tensorflow:global_step/sec: 273.217\n",
      "INFO:tensorflow:step = 8201, loss = 4.96103e+11 (0.352 sec)\n",
      "INFO:tensorflow:global_step/sec: 632.847\n",
      "INFO:tensorflow:step = 8301, loss = 7.90982e+10 (0.173 sec)\n",
      "INFO:tensorflow:global_step/sec: 512.769\n",
      "INFO:tensorflow:step = 8401, loss = 2.73014e+11 (0.187 sec)\n",
      "INFO:tensorflow:global_step/sec: 531.323\n",
      "INFO:tensorflow:step = 8501, loss = 1.68386e+11 (0.195 sec)\n",
      "INFO:tensorflow:global_step/sec: 651.011\n",
      "INFO:tensorflow:step = 8601, loss = 2.59505e+11 (0.154 sec)\n",
      "INFO:tensorflow:global_step/sec: 553.679\n",
      "INFO:tensorflow:step = 8701, loss = 2.15215e+11 (0.196 sec)\n",
      "INFO:tensorflow:global_step/sec: 615.748\n",
      "INFO:tensorflow:step = 8801, loss = 4.52568e+10 (0.147 sec)\n",
      "INFO:tensorflow:global_step/sec: 449.194\n",
      "INFO:tensorflow:step = 8901, loss = 2.25628e+11 (0.220 sec)\n",
      "INFO:tensorflow:global_step/sec: 438.187\n",
      "INFO:tensorflow:step = 9001, loss = 4.2551e+11 (0.231 sec)\n",
      "INFO:tensorflow:global_step/sec: 679.323\n",
      "INFO:tensorflow:step = 9101, loss = 3.2432e+11 (0.147 sec)\n",
      "INFO:tensorflow:global_step/sec: 620.322\n",
      "INFO:tensorflow:step = 9201, loss = 4.27727e+11 (0.146 sec)\n",
      "INFO:tensorflow:global_step/sec: 651.011\n",
      "INFO:tensorflow:step = 9301, loss = 2.37078e+11 (0.169 sec)\n",
      "INFO:tensorflow:global_step/sec: 670.217\n",
      "INFO:tensorflow:step = 9401, loss = 2.17589e+11 (0.149 sec)\n",
      "INFO:tensorflow:global_step/sec: 672.025\n",
      "INFO:tensorflow:step = 9501, loss = 2.42272e+11 (0.149 sec)\n",
      "INFO:tensorflow:global_step/sec: 665.754\n",
      "INFO:tensorflow:step = 9601, loss = 1.24744e+11 (0.150 sec)\n",
      "INFO:tensorflow:global_step/sec: 670.217\n",
      "INFO:tensorflow:step = 9701, loss = 5.61315e+11 (0.149 sec)\n",
      "INFO:tensorflow:global_step/sec: 663.98\n",
      "INFO:tensorflow:step = 9801, loss = 4.56089e+11 (0.151 sec)\n",
      "INFO:tensorflow:global_step/sec: 672.917\n",
      "INFO:tensorflow:step = 9901, loss = 3.95623e+11 (0.149 sec)\n",
      "INFO:tensorflow:global_step/sec: 610.48\n",
      "INFO:tensorflow:step = 10001, loss = 3.44988e+11 (0.148 sec)\n",
      "INFO:tensorflow:global_step/sec: 670.218\n",
      "INFO:tensorflow:step = 10101, loss = 2.9428e+11 (0.149 sec)\n",
      "INFO:tensorflow:global_step/sec: 665.754\n",
      "INFO:tensorflow:step = 10201, loss = 3.2654e+11 (0.166 sec)\n",
      "INFO:tensorflow:global_step/sec: 672.025\n",
      "INFO:tensorflow:step = 10301, loss = 1.96206e+11 (0.149 sec)\n",
      "INFO:tensorflow:global_step/sec: 657.006\n",
      "INFO:tensorflow:step = 10401, loss = 1.45763e+11 (0.137 sec)\n",
      "INFO:tensorflow:global_step/sec: 614.23\n",
      "INFO:tensorflow:step = 10501, loss = 1.69723e+11 (0.163 sec)\n",
      "INFO:tensorflow:global_step/sec: 670.218\n",
      "INFO:tensorflow:step = 10601, loss = 5.61105e+11 (0.149 sec)\n",
      "INFO:tensorflow:global_step/sec: 667.538\n",
      "INFO:tensorflow:step = 10701, loss = 3.25643e+11 (0.150 sec)\n",
      "INFO:tensorflow:global_step/sec: 663.98\n",
      "INFO:tensorflow:step = 10801, loss = 1.93311e+11 (0.166 sec)\n",
      "INFO:tensorflow:global_step/sec: 665.754\n",
      "INFO:tensorflow:step = 10901, loss = 2.06649e+11 (0.150 sec)\n",
      "INFO:tensorflow:global_step/sec: 614.231\n",
      "INFO:tensorflow:step = 11001, loss = 3.06852e+10 (0.163 sec)\n",
      "INFO:tensorflow:global_step/sec: 665.754\n",
      "INFO:tensorflow:step = 11101, loss = 1.64275e+11 (0.150 sec)\n",
      "INFO:tensorflow:global_step/sec: 605.302\n",
      "INFO:tensorflow:step = 11201, loss = 4.66458e+11 (0.150 sec)\n",
      "INFO:tensorflow:global_step/sec: 606.775\n",
      "INFO:tensorflow:step = 11301, loss = 3.05998e+11 (0.180 sec)\n",
      "INFO:tensorflow:global_step/sec: 667.538\n",
      "INFO:tensorflow:step = 11401, loss = 2.22357e+11 (0.134 sec)\n",
      "INFO:tensorflow:global_step/sec: 670.217\n",
      "INFO:tensorflow:step = 11501, loss = 3.29299e+11 (0.165 sec)\n",
      "INFO:tensorflow:global_step/sec: 663.98\n",
      "INFO:tensorflow:step = 11601, loss = 3.19764e+11 (0.151 sec)\n",
      "INFO:tensorflow:global_step/sec: 610.48\n",
      "INFO:tensorflow:step = 11701, loss = 4.71738e+11 (0.148 sec)\n",
      "INFO:tensorflow:global_step/sec: 665.755\n",
      "INFO:tensorflow:step = 11801, loss = 2.77489e+11 (0.166 sec)\n",
      "INFO:tensorflow:global_step/sec: 595.927\n",
      "INFO:tensorflow:step = 11901, loss = 3.02886e+11 (0.152 sec)\n",
      "INFO:tensorflow:global_step/sec: 672.917\n",
      "INFO:tensorflow:step = 12001, loss = 1.76151e+11 (0.164 sec)\n",
      "INFO:tensorflow:global_step/sec: 674.74\n",
      "INFO:tensorflow:step = 12101, loss = 2.43076e+11 (0.148 sec)\n",
      "INFO:tensorflow:global_step/sec: 603.834\n",
      "INFO:tensorflow:step = 12201, loss = 2.30329e+11 (0.166 sec)\n",
      "INFO:tensorflow:global_step/sec: 606.775\n",
      "INFO:tensorflow:step = 12301, loss = 1.99714e+11 (0.165 sec)\n",
      "INFO:tensorflow:global_step/sec: 603.116\n",
      "INFO:tensorflow:step = 12401, loss = 4.94402e+11 (0.150 sec)\n",
      "INFO:tensorflow:global_step/sec: 663.979\n",
      "INFO:tensorflow:step = 12501, loss = 1.69823e+11 (0.151 sec)\n",
      "INFO:tensorflow:global_step/sec: 670.218\n",
      "INFO:tensorflow:step = 12601, loss = 1.70442e+11 (0.165 sec)\n",
      "INFO:tensorflow:global_step/sec: 606.775\n",
      "INFO:tensorflow:step = 12701, loss = 1.35358e+11 (0.149 sec)\n",
      "INFO:tensorflow:global_step/sec: 740.704\n",
      "INFO:tensorflow:step = 12801, loss = 1.61028e+11 (0.166 sec)\n",
      "INFO:tensorflow:global_step/sec: 557.396\n",
      "INFO:tensorflow:step = 12901, loss = 3.84645e+11 (0.148 sec)\n",
      "INFO:tensorflow:global_step/sec: 657.858\n",
      "INFO:tensorflow:step = 13001, loss = 1.89105e+11 (0.168 sec)\n",
      "INFO:tensorflow:global_step/sec: 608.988\n",
      "INFO:tensorflow:step = 13101, loss = 2.30498e+11 (0.164 sec)\n",
      "INFO:tensorflow:global_step/sec: 663.979\n",
      "INFO:tensorflow:step = 13201, loss = 1.69236e+11 (0.151 sec)\n",
      "INFO:tensorflow:global_step/sec: 551.85\n",
      "INFO:tensorflow:step = 13301, loss = 3.99165e+11 (0.166 sec)\n",
      "INFO:tensorflow:global_step/sec: 668.419\n",
      "INFO:tensorflow:step = 13401, loss = 3.37922e+11 (0.165 sec)\n",
      "INFO:tensorflow:global_step/sec: 605.302\n",
      "INFO:tensorflow:step = 13501, loss = 4.94713e+11 (0.150 sec)\n",
      "INFO:tensorflow:global_step/sec: 606.775\n",
      "INFO:tensorflow:step = 13601, loss = 2.65224e+11 (0.165 sec)\n",
      "INFO:tensorflow:global_step/sec: 662.215\n",
      "INFO:tensorflow:step = 13701, loss = 1.17787e+11 (0.151 sec)\n",
      "INFO:tensorflow:global_step/sec: 670.217\n",
      "INFO:tensorflow:step = 13801, loss = 2.94272e+11 (0.165 sec)\n",
      "INFO:tensorflow:global_step/sec: 548.822\n",
      "INFO:tensorflow:step = 13901, loss = 1.26731e+11 (0.182 sec)\n",
      "INFO:tensorflow:global_step/sec: 605.301\n",
      "INFO:tensorflow:step = 14001, loss = 3.73395e+11 (0.165 sec)\n",
      "INFO:tensorflow:global_step/sec: 548.822\n",
      "INFO:tensorflow:step = 14101, loss = 4.21677e+11 (0.167 sec)\n",
      "INFO:tensorflow:global_step/sec: 663.98\n",
      "INFO:tensorflow:step = 14201, loss = 2.87836e+11 (0.166 sec)\n",
      "INFO:tensorflow:global_step/sec: 605.301\n",
      "INFO:tensorflow:step = 14301, loss = 1.74482e+11 (0.150 sec)\n",
      "INFO:tensorflow:global_step/sec: 603.834\n",
      "INFO:tensorflow:step = 14401, loss = 2.94852e+11 (0.181 sec)\n",
      "INFO:tensorflow:global_step/sec: 605.302\n",
      "INFO:tensorflow:step = 14501, loss = 6.98325e+10 (0.165 sec)\n",
      "INFO:tensorflow:global_step/sec: 595.203\n",
      "INFO:tensorflow:step = 14601, loss = 3.63322e+11 (0.168 sec)\n",
      "INFO:tensorflow:global_step/sec: 564.937\n",
      "INFO:tensorflow:step = 14701, loss = 3.55358e+11 (0.161 sec)\n",
      "INFO:tensorflow:global_step/sec: 649.314\n",
      "INFO:tensorflow:step = 14801, loss = 1.32552e+11 (0.154 sec)\n",
      "INFO:tensorflow:global_step/sec: 671.105\n",
      "INFO:tensorflow:step = 14901, loss = 2.60474e+11 (0.149 sec)\n",
      "INFO:tensorflow:global_step/sec: 605.302\n",
      "INFO:tensorflow:step = 15001, loss = 1.70277e+11 (0.165 sec)\n",
      "INFO:tensorflow:global_step/sec: 666.63\n",
      "INFO:tensorflow:step = 15101, loss = 1.73296e+11 (0.150 sec)\n",
      "INFO:tensorflow:global_step/sec: 672.917\n",
      "INFO:tensorflow:step = 15201, loss = 4.45539e+11 (0.164 sec)\n",
      "INFO:tensorflow:global_step/sec: 566.221\n",
      "INFO:tensorflow:step = 15301, loss = 5.96662e+10 (0.161 sec)\n",
      "INFO:tensorflow:global_step/sec: 642.643\n",
      "INFO:tensorflow:step = 15401, loss = 2.79988e+11 (0.156 sec)\n",
      "INFO:tensorflow:global_step/sec: 668.419\n",
      "INFO:tensorflow:step = 15501, loss = 1.99747e+11 (0.165 sec)\n",
      "INFO:tensorflow:global_step/sec: 666.63\n",
      "INFO:tensorflow:step = 15601, loss = 1.07338e+11 (0.150 sec)\n",
      "INFO:tensorflow:global_step/sec: 607.503\n",
      "INFO:tensorflow:step = 15701, loss = 4.91277e+11 (0.165 sec)\n",
      "INFO:tensorflow:global_step/sec: 605.301\n",
      "INFO:tensorflow:step = 15801, loss = 1.7098e+11 (0.150 sec)\n",
      "INFO:tensorflow:global_step/sec: 733.094\n",
      "INFO:tensorflow:step = 15901, loss = 1.74082e+11 (0.168 sec)\n",
      "INFO:tensorflow:global_step/sec: 558.009\n",
      "INFO:tensorflow:step = 16001, loss = 1.20121e+11 (0.148 sec)\n",
      "INFO:tensorflow:global_step/sec: 666.63\n",
      "INFO:tensorflow:step = 16101, loss = 1.9724e+11 (0.166 sec)\n"
     ]
    },
    {
     "name": "stdout",
     "output_type": "stream",
     "text": [
      "INFO:tensorflow:global_step/sec: 607.503\n",
      "INFO:tensorflow:step = 16201, loss = 2.24818e+11 (0.165 sec)\n",
      "INFO:tensorflow:global_step/sec: 668.419\n",
      "INFO:tensorflow:step = 16301, loss = 2.50428e+11 (0.150 sec)\n",
      "INFO:tensorflow:global_step/sec: 610.48\n",
      "INFO:tensorflow:step = 16401, loss = 2.01272e+11 (0.148 sec)\n",
      "INFO:tensorflow:global_step/sec: 665.754\n",
      "INFO:tensorflow:step = 16501, loss = 5.58702e+10 (0.166 sec)\n",
      "INFO:tensorflow:global_step/sec: 601.659\n",
      "INFO:tensorflow:step = 16601, loss = 3.37192e+11 (0.151 sec)\n",
      "INFO:tensorflow:global_step/sec: 670.217\n",
      "INFO:tensorflow:step = 16701, loss = 2.51074e+11 (0.165 sec)\n",
      "INFO:tensorflow:global_step/sec: 670.217\n",
      "INFO:tensorflow:step = 16801, loss = 3.87916e+11 (0.149 sec)\n",
      "INFO:tensorflow:global_step/sec: 606.776\n",
      "INFO:tensorflow:step = 16901, loss = 2.28801e+11 (0.149 sec)\n",
      "INFO:tensorflow:global_step/sec: 678.414\n",
      "INFO:tensorflow:step = 17001, loss = 1.0521e+11 (0.147 sec)\n",
      "INFO:tensorflow:global_step/sec: 663.111\n",
      "INFO:tensorflow:step = 17101, loss = 6.57952e+11 (0.151 sec)\n",
      "INFO:tensorflow:global_step/sec: 600.945\n",
      "INFO:tensorflow:step = 17201, loss = 1.47219e+11 (0.166 sec)\n",
      "INFO:tensorflow:global_step/sec: 606.776\n",
      "INFO:tensorflow:step = 17301, loss = 5.87855e+11 (0.165 sec)\n",
      "INFO:tensorflow:global_step/sec: 603.115\n",
      "INFO:tensorflow:step = 17401, loss = 1.06144e+11 (0.166 sec)\n",
      "INFO:tensorflow:global_step/sec: 667.538\n",
      "INFO:tensorflow:step = 17501, loss = 2.72838e+11 (0.150 sec)\n",
      "INFO:tensorflow:global_step/sec: 674.74\n",
      "INFO:tensorflow:step = 17601, loss = 1.06015e+11 (0.164 sec)\n",
      "INFO:tensorflow:global_step/sec: 599.5\n",
      "INFO:tensorflow:step = 17701, loss = 2.42185e+11 (0.151 sec)\n",
      "INFO:tensorflow:global_step/sec: 672.025\n",
      "INFO:tensorflow:step = 17801, loss = 1.31887e+11 (0.149 sec)\n",
      "INFO:tensorflow:global_step/sec: 668.418\n",
      "INFO:tensorflow:step = 17901, loss = 1.27878e+11 (0.165 sec)\n",
      "INFO:tensorflow:global_step/sec: 606.775\n",
      "INFO:tensorflow:step = 18001, loss = 8.38042e+10 (0.149 sec)\n",
      "INFO:tensorflow:global_step/sec: 667.539\n",
      "INFO:tensorflow:step = 18101, loss = 1.1504e+11 (0.150 sec)\n",
      "INFO:tensorflow:global_step/sec: 667.538\n",
      "INFO:tensorflow:step = 18201, loss = 2.99855e+11 (0.165 sec)\n",
      "INFO:tensorflow:global_step/sec: 670.217\n",
      "INFO:tensorflow:step = 18301, loss = 3.99513e+11 (0.149 sec)\n",
      "INFO:tensorflow:global_step/sec: 603.115\n",
      "INFO:tensorflow:step = 18401, loss = 1.40869e+11 (0.166 sec)\n",
      "INFO:tensorflow:global_step/sec: 606.776\n",
      "INFO:tensorflow:step = 18501, loss = 2.36552e+11 (0.149 sec)\n",
      "INFO:tensorflow:global_step/sec: 604.579\n",
      "INFO:tensorflow:step = 18601, loss = 9.07133e+10 (0.165 sec)\n",
      "INFO:tensorflow:global_step/sec: 663.979\n",
      "INFO:tensorflow:step = 18701, loss = 2.05706e+11 (0.151 sec)\n",
      "INFO:tensorflow:global_step/sec: 668.419\n",
      "INFO:tensorflow:step = 18801, loss = 1.75385e+11 (0.150 sec)\n",
      "INFO:tensorflow:global_step/sec: 670.217\n",
      "INFO:tensorflow:step = 18901, loss = 1.09961e+11 (0.165 sec)\n",
      "INFO:tensorflow:global_step/sec: 606.775\n",
      "INFO:tensorflow:step = 19001, loss = 1.62355e+11 (0.149 sec)\n",
      "INFO:tensorflow:global_step/sec: 663.112\n",
      "INFO:tensorflow:step = 19101, loss = 3.48632e+11 (0.151 sec)\n",
      "INFO:tensorflow:global_step/sec: 608.988\n",
      "INFO:tensorflow:step = 19201, loss = 3.44849e+11 (0.180 sec)\n",
      "INFO:tensorflow:global_step/sec: 603.116\n",
      "INFO:tensorflow:step = 19301, loss = 1.19502e+11 (0.150 sec)\n",
      "INFO:tensorflow:global_step/sec: 670.217\n",
      "INFO:tensorflow:step = 19401, loss = 2.74303e+11 (0.165 sec)\n",
      "INFO:tensorflow:global_step/sec: 665.754\n",
      "INFO:tensorflow:step = 19501, loss = 4.21536e+11 (0.150 sec)\n",
      "INFO:tensorflow:global_step/sec: 601.659\n",
      "INFO:tensorflow:step = 19601, loss = 1.41967e+11 (0.166 sec)\n",
      "INFO:tensorflow:global_step/sec: 606.775\n",
      "INFO:tensorflow:step = 19701, loss = 7.29586e+10 (0.149 sec)\n",
      "INFO:tensorflow:global_step/sec: 750.73\n",
      "INFO:tensorflow:step = 19801, loss = 1.88449e+11 (0.149 sec)\n",
      "INFO:tensorflow:global_step/sec: 606.775\n",
      "INFO:tensorflow:step = 19901, loss = 1.10138e+11 (0.149 sec)\n",
      "INFO:tensorflow:global_step/sec: 659.601\n",
      "INFO:tensorflow:step = 20001, loss = 2.81336e+11 (0.152 sec)\n",
      "INFO:tensorflow:global_step/sec: 674.739\n",
      "INFO:tensorflow:step = 20101, loss = 1.31134e+11 (0.164 sec)\n",
      "INFO:tensorflow:global_step/sec: 553.076\n",
      "INFO:tensorflow:step = 20201, loss = 2.00727e+11 (0.165 sec)\n",
      "INFO:tensorflow:global_step/sec: 663.98\n",
      "INFO:tensorflow:step = 20301, loss = 2.51319e+11 (0.151 sec)\n",
      "INFO:tensorflow:global_step/sec: 672.917\n",
      "INFO:tensorflow:step = 20401, loss = 4.2282e+11 (0.164 sec)\n",
      "INFO:tensorflow:global_step/sec: 603.116\n",
      "INFO:tensorflow:step = 20501, loss = 3.38785e+11 (0.150 sec)\n",
      "INFO:tensorflow:global_step/sec: 603.115\n",
      "INFO:tensorflow:step = 20601, loss = 2.73159e+11 (0.166 sec)\n",
      "INFO:tensorflow:global_step/sec: 746.232\n",
      "INFO:tensorflow:step = 20701, loss = 4.29923e+11 (0.150 sec)\n",
      "INFO:tensorflow:global_step/sec: 553.076\n",
      "INFO:tensorflow:step = 20801, loss = 2.65014e+11 (0.181 sec)\n",
      "INFO:tensorflow:global_step/sec: 603.115\n",
      "INFO:tensorflow:step = 20901, loss = 9.7929e+10 (0.150 sec)\n",
      "INFO:tensorflow:global_step/sec: 668.419\n",
      "INFO:tensorflow:step = 21001, loss = 1.85476e+11 (0.165 sec)\n",
      "INFO:tensorflow:global_step/sec: 601.659\n",
      "INFO:tensorflow:step = 21101, loss = 3.8732e+11 (0.151 sec)\n",
      "INFO:tensorflow:global_step/sec: 670.217\n",
      "INFO:tensorflow:step = 21201, loss = 1.67132e+11 (0.165 sec)\n",
      "INFO:tensorflow:global_step/sec: 605.301\n",
      "INFO:tensorflow:step = 21301, loss = 2.5606e+11 (0.165 sec)\n",
      "INFO:tensorflow:global_step/sec: 596.628\n",
      "INFO:tensorflow:step = 21401, loss = 2.46606e+11 (0.152 sec)\n",
      "INFO:tensorflow:global_step/sec: 607.503\n",
      "INFO:tensorflow:step = 21501, loss = 2.70276e+11 (0.165 sec)\n",
      "INFO:tensorflow:global_step/sec: 672.024\n",
      "INFO:tensorflow:step = 21601, loss = 4.51248e+11 (0.149 sec)\n",
      "INFO:tensorflow:global_step/sec: 668.419\n",
      "INFO:tensorflow:step = 21701, loss = 2.80021e+11 (0.150 sec)\n",
      "INFO:tensorflow:global_step/sec: 601.659\n",
      "INFO:tensorflow:step = 21801, loss = 2.72445e+11 (0.166 sec)\n",
      "INFO:tensorflow:global_step/sec: 672.917\n",
      "INFO:tensorflow:step = 21901, loss = 1.3838e+11 (0.164 sec)\n",
      "INFO:tensorflow:global_step/sec: 663.98\n",
      "INFO:tensorflow:step = 22001, loss = 3.7194e+10 (0.151 sec)\n",
      "INFO:tensorflow:global_step/sec: 608.988\n",
      "INFO:tensorflow:step = 22101, loss = 4.05769e+11 (0.164 sec)\n",
      "INFO:tensorflow:global_step/sec: 601.659\n",
      "INFO:tensorflow:step = 22201, loss = 8.38073e+10 (0.166 sec)\n",
      "INFO:tensorflow:global_step/sec: 651.011\n",
      "INFO:tensorflow:step = 22301, loss = 3.92548e+11 (0.138 sec)\n",
      "INFO:tensorflow:global_step/sec: 614.975\n",
      "INFO:tensorflow:step = 22401, loss = 1.58517e+11 (0.163 sec)\n",
      "INFO:tensorflow:global_step/sec: 671.105\n",
      "INFO:tensorflow:step = 22501, loss = 2.82785e+11 (0.149 sec)\n",
      "INFO:tensorflow:global_step/sec: 668.419\n",
      "INFO:tensorflow:step = 22601, loss = 1.65745e+11 (0.165 sec)\n",
      "INFO:tensorflow:global_step/sec: 603.834\n",
      "INFO:tensorflow:step = 22701, loss = 2.04787e+11 (0.166 sec)\n",
      "INFO:tensorflow:global_step/sec: 603.834\n",
      "INFO:tensorflow:step = 22801, loss = 1.45003e+11 (0.150 sec)\n",
      "INFO:tensorflow:global_step/sec: 603.834\n",
      "INFO:tensorflow:step = 22901, loss = 8.9097e+10 (0.166 sec)\n",
      "INFO:tensorflow:global_step/sec: 605.301\n",
      "INFO:tensorflow:step = 23001, loss = 1.61621e+11 (0.165 sec)\n",
      "INFO:tensorflow:global_step/sec: 666.63\n",
      "INFO:tensorflow:step = 23101, loss = 7.9217e+10 (0.166 sec)\n",
      "INFO:tensorflow:global_step/sec: 666.63\n",
      "INFO:tensorflow:step = 23201, loss = 1.19339e+11 (0.135 sec)\n",
      "INFO:tensorflow:global_step/sec: 606.025\n",
      "INFO:tensorflow:step = 23301, loss = 7.98219e+10 (0.164 sec)\n",
      "INFO:tensorflow:global_step/sec: 746.232\n",
      "INFO:tensorflow:step = 23401, loss = 3.48658e+11 (0.150 sec)\n",
      "INFO:tensorflow:global_step/sec: 607.503\n",
      "INFO:tensorflow:step = 23501, loss = 3.1241e+10 (0.149 sec)\n",
      "INFO:tensorflow:global_step/sec: 603.834\n",
      "INFO:tensorflow:step = 23601, loss = 1.51474e+11 (0.166 sec)\n",
      "INFO:tensorflow:global_step/sec: 672.917\n",
      "INFO:tensorflow:step = 23701, loss = 2.82795e+11 (0.164 sec)\n",
      "INFO:tensorflow:global_step/sec: 601.659\n",
      "INFO:tensorflow:step = 23801, loss = 1.22838e+11 (0.166 sec)\n",
      "INFO:tensorflow:global_step/sec: 550.033\n",
      "INFO:tensorflow:step = 23901, loss = 2.34584e+10 (0.166 sec)\n",
      "INFO:tensorflow:global_step/sec: 668.419\n",
      "INFO:tensorflow:step = 24001, loss = 5.64531e+10 (0.165 sec)\n",
      "INFO:tensorflow:global_step/sec: 670.217\n",
      "INFO:tensorflow:step = 24101, loss = 5.51776e+10 (0.149 sec)\n",
      "INFO:tensorflow:global_step/sec: 600.209\n",
      "INFO:tensorflow:step = 24201, loss = 1.867e+11 (0.151 sec)\n"
     ]
    },
    {
     "name": "stdout",
     "output_type": "stream",
     "text": [
      "INFO:tensorflow:global_step/sec: 671.105\n",
      "INFO:tensorflow:step = 24301, loss = 1.13232e+11 (0.165 sec)\n",
      "INFO:tensorflow:global_step/sec: 605.301\n",
      "INFO:tensorflow:step = 24401, loss = 1.15947e+11 (0.165 sec)\n",
      "INFO:tensorflow:global_step/sec: 670.218\n",
      "INFO:tensorflow:step = 24501, loss = 1.0624e+11 (0.149 sec)\n",
      "INFO:tensorflow:global_step/sec: 670.217\n",
      "INFO:tensorflow:step = 24601, loss = 2.66384e+11 (0.149 sec)\n",
      "INFO:tensorflow:global_step/sec: 611.979\n",
      "INFO:tensorflow:step = 24701, loss = 2.84122e+11 (0.163 sec)\n",
      "INFO:tensorflow:global_step/sec: 657.006\n",
      "INFO:tensorflow:step = 24801, loss = 2.16188e+11 (0.152 sec)\n",
      "INFO:tensorflow:global_step/sec: 676.573\n",
      "INFO:tensorflow:step = 24901, loss = 1.40813e+11 (0.148 sec)\n",
      "INFO:tensorflow:Saving checkpoints for 25000 into C:\\Users\\rhasan\\AppData\\Local\\Temp\\tmp07wiam3l\\model.ckpt.\n",
      "INFO:tensorflow:Loss for final step: 2.14975e+11.\n"
     ]
    },
    {
     "data": {
      "text/plain": [
       "<tensorflow.python.estimator.canned.dnn.DNNRegressor at 0x4cadb00>"
      ]
     },
     "execution_count": 27,
     "metadata": {},
     "output_type": "execute_result"
    }
   ],
   "source": [
    "#train the model\n",
    "model.train(input_fn=input_func,steps=25000)"
   ]
  },
  {
   "cell_type": "code",
   "execution_count": 28,
   "metadata": {
    "collapsed": true
   },
   "outputs": [],
   "source": [
    "#create prediction function\n",
    "predict_input_func = tf.estimator.inputs.pandas_input_fn(x=X_test,\n",
    "                                                        batch_size=10,\n",
    "                                                        num_epochs=1,\n",
    "                                                        shuffle=False)"
   ]
  },
  {
   "cell_type": "code",
   "execution_count": 29,
   "metadata": {
    "collapsed": true
   },
   "outputs": [],
   "source": [
    "#predict \n",
    "pred_gen = model.predict(predict_input_func)"
   ]
  },
  {
   "cell_type": "code",
   "execution_count": 30,
   "metadata": {},
   "outputs": [
    {
     "name": "stdout",
     "output_type": "stream",
     "text": [
      "INFO:tensorflow:Restoring parameters from C:\\Users\\rhasan\\AppData\\Local\\Temp\\tmp07wiam3l\\model.ckpt-25000\n"
     ]
    }
   ],
   "source": [
    "predictions = list(pred_gen)"
   ]
  },
  {
   "cell_type": "code",
   "execution_count": 31,
   "metadata": {},
   "outputs": [
    {
     "data": {
      "text/plain": [
       "[{'predictions': array([ 497606.75], dtype=float32)},\n",
       " {'predictions': array([ 458534.9375], dtype=float32)},\n",
       " {'predictions': array([ 499115.8125], dtype=float32)},\n",
       " {'predictions': array([ 448192.96875], dtype=float32)},\n",
       " {'predictions': array([ 449885.3125], dtype=float32)},\n",
       " {'predictions': array([ 435494.8125], dtype=float32)},\n",
       " {'predictions': array([ 414636.09375], dtype=float32)},\n",
       " {'predictions': array([ 441090.25], dtype=float32)},\n",
       " {'predictions': array([ 424858.25], dtype=float32)},\n",
       " {'predictions': array([ 407825.53125], dtype=float32)},\n",
       " {'predictions': array([ 471960.28125], dtype=float32)},\n",
       " {'predictions': array([ 520057.75], dtype=float32)},\n",
       " {'predictions': array([ 410143.40625], dtype=float32)},\n",
       " {'predictions': array([ 477448.125], dtype=float32)},\n",
       " {'predictions': array([ 449860.875], dtype=float32)},\n",
       " {'predictions': array([ 499245.34375], dtype=float32)},\n",
       " {'predictions': array([ 402579.90625], dtype=float32)},\n",
       " {'predictions': array([ 500017.6875], dtype=float32)},\n",
       " {'predictions': array([ 370797.125], dtype=float32)},\n",
       " {'predictions': array([ 424196.84375], dtype=float32)},\n",
       " {'predictions': array([ 559857.25], dtype=float32)},\n",
       " {'predictions': array([ 413754.9375], dtype=float32)},\n",
       " {'predictions': array([ 500748.625], dtype=float32)},\n",
       " {'predictions': array([ 459609.84375], dtype=float32)},\n",
       " {'predictions': array([ 308842.1875], dtype=float32)},\n",
       " {'predictions': array([ 427361.71875], dtype=float32)},\n",
       " {'predictions': array([ 495271.125], dtype=float32)},\n",
       " {'predictions': array([ 493929.625], dtype=float32)},\n",
       " {'predictions': array([ 466298.9375], dtype=float32)},\n",
       " {'predictions': array([ 486811.5], dtype=float32)},\n",
       " {'predictions': array([ 486745.125], dtype=float32)},\n",
       " {'predictions': array([ 469923.21875], dtype=float32)},\n",
       " {'predictions': array([ 422801.4375], dtype=float32)},\n",
       " {'predictions': array([ 466603.875], dtype=float32)},\n",
       " {'predictions': array([ 584843.8125], dtype=float32)},\n",
       " {'predictions': array([ 527169.5625], dtype=float32)},\n",
       " {'predictions': array([ 597760.3125], dtype=float32)},\n",
       " {'predictions': array([ 366922.0625], dtype=float32)},\n",
       " {'predictions': array([ 412181.875], dtype=float32)},\n",
       " {'predictions': array([ 410295.625], dtype=float32)},\n",
       " {'predictions': array([ 515533.8125], dtype=float32)},\n",
       " {'predictions': array([ 443786.4375], dtype=float32)},\n",
       " {'predictions': array([ 476736.4375], dtype=float32)},\n",
       " {'predictions': array([ 404925.84375], dtype=float32)},\n",
       " {'predictions': array([ 496775.5625], dtype=float32)},\n",
       " {'predictions': array([ 456836.25], dtype=float32)},\n",
       " {'predictions': array([ 525847.8125], dtype=float32)},\n",
       " {'predictions': array([ 388407.03125], dtype=float32)},\n",
       " {'predictions': array([ 455557.9375], dtype=float32)},\n",
       " {'predictions': array([ 462556.3125], dtype=float32)},\n",
       " {'predictions': array([ 433107.4375], dtype=float32)},\n",
       " {'predictions': array([ 451800.8125], dtype=float32)},\n",
       " {'predictions': array([ 481093.6875], dtype=float32)},\n",
       " {'predictions': array([ 489684.4375], dtype=float32)},\n",
       " {'predictions': array([ 368208.], dtype=float32)},\n",
       " {'predictions': array([ 485355.], dtype=float32)},\n",
       " {'predictions': array([ 454330.90625], dtype=float32)},\n",
       " {'predictions': array([ 365629.], dtype=float32)},\n",
       " {'predictions': array([ 481087.75], dtype=float32)},\n",
       " {'predictions': array([ 290462.84375], dtype=float32)},\n",
       " {'predictions': array([ 499579.6875], dtype=float32)},\n",
       " {'predictions': array([ 515973.6875], dtype=float32)},\n",
       " {'predictions': array([ 417853.375], dtype=float32)},\n",
       " {'predictions': array([ 462687.], dtype=float32)},\n",
       " {'predictions': array([ 470245.6875], dtype=float32)},\n",
       " {'predictions': array([ 431317.34375], dtype=float32)},\n",
       " {'predictions': array([ 354957.59375], dtype=float32)},\n",
       " {'predictions': array([ 571710.0625], dtype=float32)},\n",
       " {'predictions': array([ 486514.5625], dtype=float32)},\n",
       " {'predictions': array([ 432149.], dtype=float32)},\n",
       " {'predictions': array([ 545490.5], dtype=float32)},\n",
       " {'predictions': array([ 418046.1875], dtype=float32)},\n",
       " {'predictions': array([ 359498.59375], dtype=float32)},\n",
       " {'predictions': array([ 474270.96875], dtype=float32)},\n",
       " {'predictions': array([ 421377.0625], dtype=float32)},\n",
       " {'predictions': array([ 470248.9375], dtype=float32)},\n",
       " {'predictions': array([ 437240.03125], dtype=float32)},\n",
       " {'predictions': array([ 522367.], dtype=float32)},\n",
       " {'predictions': array([ 470595.5625], dtype=float32)},\n",
       " {'predictions': array([ 418425.5625], dtype=float32)},\n",
       " {'predictions': array([ 434052.25], dtype=float32)},\n",
       " {'predictions': array([ 356562.34375], dtype=float32)},\n",
       " {'predictions': array([ 483311.3125], dtype=float32)},\n",
       " {'predictions': array([ 399064.3125], dtype=float32)},\n",
       " {'predictions': array([ 492219.65625], dtype=float32)},\n",
       " {'predictions': array([ 432532.0625], dtype=float32)},\n",
       " {'predictions': array([ 475772.9375], dtype=float32)},\n",
       " {'predictions': array([ 397655.875], dtype=float32)},\n",
       " {'predictions': array([ 479753.0625], dtype=float32)},\n",
       " {'predictions': array([ 452272.6875], dtype=float32)},\n",
       " {'predictions': array([ 396950.3125], dtype=float32)},\n",
       " {'predictions': array([ 485357.5], dtype=float32)},\n",
       " {'predictions': array([ 450884.65625], dtype=float32)},\n",
       " {'predictions': array([ 529395.1875], dtype=float32)},\n",
       " {'predictions': array([ 451229.15625], dtype=float32)},\n",
       " {'predictions': array([ 487256.5], dtype=float32)},\n",
       " {'predictions': array([ 412811.], dtype=float32)},\n",
       " {'predictions': array([ 401820.5], dtype=float32)},\n",
       " {'predictions': array([ 452690.625], dtype=float32)},\n",
       " {'predictions': array([ 426297.65625], dtype=float32)},\n",
       " {'predictions': array([ 419583.5625], dtype=float32)},\n",
       " {'predictions': array([ 464325.0625], dtype=float32)},\n",
       " {'predictions': array([ 453496.125], dtype=float32)},\n",
       " {'predictions': array([ 403470.40625], dtype=float32)},\n",
       " {'predictions': array([ 468615.65625], dtype=float32)},\n",
       " {'predictions': array([ 492994.9375], dtype=float32)},\n",
       " {'predictions': array([ 502262.25], dtype=float32)},\n",
       " {'predictions': array([ 338244.1875], dtype=float32)},\n",
       " {'predictions': array([ 476469.5], dtype=float32)},\n",
       " {'predictions': array([ 526991.6875], dtype=float32)},\n",
       " {'predictions': array([ 464670.125], dtype=float32)},\n",
       " {'predictions': array([ 523627.8125], dtype=float32)},\n",
       " {'predictions': array([ 433953.5625], dtype=float32)},\n",
       " {'predictions': array([ 425604.78125], dtype=float32)},\n",
       " {'predictions': array([ 560343.0625], dtype=float32)},\n",
       " {'predictions': array([ 403945.], dtype=float32)},\n",
       " {'predictions': array([ 430808.25], dtype=float32)},\n",
       " {'predictions': array([ 499727.1875], dtype=float32)},\n",
       " {'predictions': array([ 433757.25], dtype=float32)},\n",
       " {'predictions': array([ 378364.71875], dtype=float32)},\n",
       " {'predictions': array([ 351968.53125], dtype=float32)},\n",
       " {'predictions': array([ 437159.], dtype=float32)},\n",
       " {'predictions': array([ 525282.1875], dtype=float32)},\n",
       " {'predictions': array([ 430973.3125], dtype=float32)},\n",
       " {'predictions': array([ 419626.8125], dtype=float32)},\n",
       " {'predictions': array([ 516996.5], dtype=float32)},\n",
       " {'predictions': array([ 606627.3125], dtype=float32)},\n",
       " {'predictions': array([ 475696.125], dtype=float32)},\n",
       " {'predictions': array([ 443529.625], dtype=float32)},\n",
       " {'predictions': array([ 480399.8125], dtype=float32)},\n",
       " {'predictions': array([ 503759.625], dtype=float32)},\n",
       " {'predictions': array([ 406668.1875], dtype=float32)},\n",
       " {'predictions': array([ 408802.3125], dtype=float32)},\n",
       " {'predictions': array([ 428289.15625], dtype=float32)},\n",
       " {'predictions': array([ 455455.375], dtype=float32)},\n",
       " {'predictions': array([ 439763.1875], dtype=float32)},\n",
       " {'predictions': array([ 448117.25], dtype=float32)},\n",
       " {'predictions': array([ 445053.40625], dtype=float32)},\n",
       " {'predictions': array([ 454694.25], dtype=float32)},\n",
       " {'predictions': array([ 427961.5], dtype=float32)},\n",
       " {'predictions': array([ 439615.625], dtype=float32)},\n",
       " {'predictions': array([ 445950.5625], dtype=float32)},\n",
       " {'predictions': array([ 517746.25], dtype=float32)},\n",
       " {'predictions': array([ 447736.90625], dtype=float32)},\n",
       " {'predictions': array([ 381368.34375], dtype=float32)},\n",
       " {'predictions': array([ 432406.75], dtype=float32)},\n",
       " {'predictions': array([ 449974.71875], dtype=float32)}]"
      ]
     },
     "execution_count": 31,
     "metadata": {},
     "output_type": "execute_result"
    }
   ],
   "source": [
    "predictions"
   ]
  },
  {
   "cell_type": "code",
   "execution_count": 33,
   "metadata": {},
   "outputs": [],
   "source": [
    "#create a function\n",
    "\n",
    "final_preds = []\n",
    "\n",
    "for pred in predictions:\n",
    "    final_preds.append(pred['predictions'])"
   ]
  },
  {
   "cell_type": "code",
   "execution_count": 35,
   "metadata": {},
   "outputs": [
    {
     "data": {
      "text/plain": [
       "array([ 497606.75], dtype=float32)"
      ]
     },
     "execution_count": 35,
     "metadata": {},
     "output_type": "execute_result"
    }
   ],
   "source": [
    "final_preds[0]"
   ]
  },
  {
   "cell_type": "code",
   "execution_count": 36,
   "metadata": {
    "collapsed": true
   },
   "outputs": [],
   "source": [
    "from sklearn.metrics import mean_squared_error"
   ]
  },
  {
   "cell_type": "code",
   "execution_count": 37,
   "metadata": {},
   "outputs": [
    {
     "name": "stdout",
     "output_type": "stream",
     "text": [
      "138448.455088\n"
     ]
    }
   ],
   "source": [
    "print(mean_squared_error(y_test,final_preds) ** 0.5)"
   ]
  },
  {
   "cell_type": "markdown",
   "metadata": {},
   "source": [
    "## Weather data set\n",
    "#### predicting relationship between humidity and temperature "
   ]
  },
  {
   "cell_type": "code",
   "execution_count": 2,
   "metadata": {
    "collapsed": true
   },
   "outputs": [],
   "source": [
    "import pandas as pd"
   ]
  },
  {
   "cell_type": "code",
   "execution_count": 3,
   "metadata": {
    "scrolled": true
   },
   "outputs": [],
   "source": [
    "weather = pd.read_csv('C:\\\\Users\\\\rhasan\\\\Downloads\\\\TF Regression Implementation data set\\\\szeged-weather\\\\weatherHistory.csv')"
   ]
  },
  {
   "cell_type": "code",
   "execution_count": 4,
   "metadata": {},
   "outputs": [
    {
     "data": {
      "text/plain": [
       "Index(['Formatted Date', 'Summary', 'Precip Type', 'Temperature (C)',\n",
       "       'Apparent Temperature (C)', 'Humidity', 'Wind Speed (km/h)',\n",
       "       'Wind Bearing (degrees)', 'Visibility (km)', 'Loud Cover',\n",
       "       'Pressure (millibars)', 'Daily Summary'],\n",
       "      dtype='object')"
      ]
     },
     "execution_count": 4,
     "metadata": {},
     "output_type": "execute_result"
    }
   ],
   "source": [
    "weather.columns"
   ]
  },
  {
   "cell_type": "code",
   "execution_count": 5,
   "metadata": {},
   "outputs": [
    {
     "data": {
      "text/html": [
       "<div>\n",
       "<style>\n",
       "    .dataframe thead tr:only-child th {\n",
       "        text-align: right;\n",
       "    }\n",
       "\n",
       "    .dataframe thead th {\n",
       "        text-align: left;\n",
       "    }\n",
       "\n",
       "    .dataframe tbody tr th {\n",
       "        vertical-align: top;\n",
       "    }\n",
       "</style>\n",
       "<table border=\"1\" class=\"dataframe\">\n",
       "  <thead>\n",
       "    <tr style=\"text-align: right;\">\n",
       "      <th></th>\n",
       "      <th>Formatted Date</th>\n",
       "      <th>Summary</th>\n",
       "      <th>Precip Type</th>\n",
       "      <th>Temperature (C)</th>\n",
       "      <th>Apparent Temperature (C)</th>\n",
       "      <th>Humidity</th>\n",
       "      <th>Wind Speed (km/h)</th>\n",
       "      <th>Wind Bearing (degrees)</th>\n",
       "      <th>Visibility (km)</th>\n",
       "      <th>Loud Cover</th>\n",
       "      <th>Pressure (millibars)</th>\n",
       "      <th>Daily Summary</th>\n",
       "    </tr>\n",
       "  </thead>\n",
       "  <tbody>\n",
       "    <tr>\n",
       "      <th>0</th>\n",
       "      <td>2006-04-01 00:00:00.000 +0200</td>\n",
       "      <td>Partly Cloudy</td>\n",
       "      <td>rain</td>\n",
       "      <td>9.472222</td>\n",
       "      <td>7.388889</td>\n",
       "      <td>0.89</td>\n",
       "      <td>14.1197</td>\n",
       "      <td>251.0</td>\n",
       "      <td>15.8263</td>\n",
       "      <td>0.0</td>\n",
       "      <td>1015.13</td>\n",
       "      <td>Partly cloudy throughout the day.</td>\n",
       "    </tr>\n",
       "    <tr>\n",
       "      <th>1</th>\n",
       "      <td>2006-04-01 01:00:00.000 +0200</td>\n",
       "      <td>Partly Cloudy</td>\n",
       "      <td>rain</td>\n",
       "      <td>9.355556</td>\n",
       "      <td>7.227778</td>\n",
       "      <td>0.86</td>\n",
       "      <td>14.2646</td>\n",
       "      <td>259.0</td>\n",
       "      <td>15.8263</td>\n",
       "      <td>0.0</td>\n",
       "      <td>1015.63</td>\n",
       "      <td>Partly cloudy throughout the day.</td>\n",
       "    </tr>\n",
       "    <tr>\n",
       "      <th>2</th>\n",
       "      <td>2006-04-01 02:00:00.000 +0200</td>\n",
       "      <td>Mostly Cloudy</td>\n",
       "      <td>rain</td>\n",
       "      <td>9.377778</td>\n",
       "      <td>9.377778</td>\n",
       "      <td>0.89</td>\n",
       "      <td>3.9284</td>\n",
       "      <td>204.0</td>\n",
       "      <td>14.9569</td>\n",
       "      <td>0.0</td>\n",
       "      <td>1015.94</td>\n",
       "      <td>Partly cloudy throughout the day.</td>\n",
       "    </tr>\n",
       "    <tr>\n",
       "      <th>3</th>\n",
       "      <td>2006-04-01 03:00:00.000 +0200</td>\n",
       "      <td>Partly Cloudy</td>\n",
       "      <td>rain</td>\n",
       "      <td>8.288889</td>\n",
       "      <td>5.944444</td>\n",
       "      <td>0.83</td>\n",
       "      <td>14.1036</td>\n",
       "      <td>269.0</td>\n",
       "      <td>15.8263</td>\n",
       "      <td>0.0</td>\n",
       "      <td>1016.41</td>\n",
       "      <td>Partly cloudy throughout the day.</td>\n",
       "    </tr>\n",
       "    <tr>\n",
       "      <th>4</th>\n",
       "      <td>2006-04-01 04:00:00.000 +0200</td>\n",
       "      <td>Mostly Cloudy</td>\n",
       "      <td>rain</td>\n",
       "      <td>8.755556</td>\n",
       "      <td>6.977778</td>\n",
       "      <td>0.83</td>\n",
       "      <td>11.0446</td>\n",
       "      <td>259.0</td>\n",
       "      <td>15.8263</td>\n",
       "      <td>0.0</td>\n",
       "      <td>1016.51</td>\n",
       "      <td>Partly cloudy throughout the day.</td>\n",
       "    </tr>\n",
       "  </tbody>\n",
       "</table>\n",
       "</div>"
      ],
      "text/plain": [
       "                  Formatted Date        Summary Precip Type  Temperature (C)  \\\n",
       "0  2006-04-01 00:00:00.000 +0200  Partly Cloudy        rain         9.472222   \n",
       "1  2006-04-01 01:00:00.000 +0200  Partly Cloudy        rain         9.355556   \n",
       "2  2006-04-01 02:00:00.000 +0200  Mostly Cloudy        rain         9.377778   \n",
       "3  2006-04-01 03:00:00.000 +0200  Partly Cloudy        rain         8.288889   \n",
       "4  2006-04-01 04:00:00.000 +0200  Mostly Cloudy        rain         8.755556   \n",
       "\n",
       "   Apparent Temperature (C)  Humidity  Wind Speed (km/h)  \\\n",
       "0                  7.388889      0.89            14.1197   \n",
       "1                  7.227778      0.86            14.2646   \n",
       "2                  9.377778      0.89             3.9284   \n",
       "3                  5.944444      0.83            14.1036   \n",
       "4                  6.977778      0.83            11.0446   \n",
       "\n",
       "   Wind Bearing (degrees)  Visibility (km)  Loud Cover  Pressure (millibars)  \\\n",
       "0                   251.0          15.8263         0.0               1015.13   \n",
       "1                   259.0          15.8263         0.0               1015.63   \n",
       "2                   204.0          14.9569         0.0               1015.94   \n",
       "3                   269.0          15.8263         0.0               1016.41   \n",
       "4                   259.0          15.8263         0.0               1016.51   \n",
       "\n",
       "                       Daily Summary  \n",
       "0  Partly cloudy throughout the day.  \n",
       "1  Partly cloudy throughout the day.  \n",
       "2  Partly cloudy throughout the day.  \n",
       "3  Partly cloudy throughout the day.  \n",
       "4  Partly cloudy throughout the day.  "
      ]
     },
     "execution_count": 5,
     "metadata": {},
     "output_type": "execute_result"
    }
   ],
   "source": [
    "weather.head()"
   ]
  },
  {
   "cell_type": "code",
   "execution_count": 6,
   "metadata": {},
   "outputs": [
    {
     "data": {
      "text/plain": [
       "Formatted Date               object\n",
       "Summary                      object\n",
       "Precip Type                  object\n",
       "Temperature (C)             float64\n",
       "Apparent Temperature (C)    float64\n",
       "Humidity                    float64\n",
       "Wind Speed (km/h)           float64\n",
       "Wind Bearing (degrees)      float64\n",
       "Visibility (km)             float64\n",
       "Loud Cover                  float64\n",
       "Pressure (millibars)        float64\n",
       "Daily Summary                object\n",
       "dtype: object"
      ]
     },
     "execution_count": 6,
     "metadata": {},
     "output_type": "execute_result"
    }
   ],
   "source": [
    "weather.dtypes"
   ]
  },
  {
   "cell_type": "code",
   "execution_count": 7,
   "metadata": {},
   "outputs": [
    {
     "data": {
      "text/html": [
       "<div>\n",
       "<style>\n",
       "    .dataframe thead tr:only-child th {\n",
       "        text-align: right;\n",
       "    }\n",
       "\n",
       "    .dataframe thead th {\n",
       "        text-align: left;\n",
       "    }\n",
       "\n",
       "    .dataframe tbody tr th {\n",
       "        vertical-align: top;\n",
       "    }\n",
       "</style>\n",
       "<table border=\"1\" class=\"dataframe\">\n",
       "  <thead>\n",
       "    <tr style=\"text-align: right;\">\n",
       "      <th></th>\n",
       "      <th>count</th>\n",
       "      <th>mean</th>\n",
       "      <th>std</th>\n",
       "      <th>min</th>\n",
       "      <th>25%</th>\n",
       "      <th>50%</th>\n",
       "      <th>75%</th>\n",
       "      <th>max</th>\n",
       "    </tr>\n",
       "  </thead>\n",
       "  <tbody>\n",
       "    <tr>\n",
       "      <th>Temperature (C)</th>\n",
       "      <td>96453.0</td>\n",
       "      <td>11.932678</td>\n",
       "      <td>9.551546</td>\n",
       "      <td>-21.822222</td>\n",
       "      <td>4.688889</td>\n",
       "      <td>12.0000</td>\n",
       "      <td>18.838889</td>\n",
       "      <td>39.905556</td>\n",
       "    </tr>\n",
       "    <tr>\n",
       "      <th>Apparent Temperature (C)</th>\n",
       "      <td>96453.0</td>\n",
       "      <td>10.855029</td>\n",
       "      <td>10.696847</td>\n",
       "      <td>-27.716667</td>\n",
       "      <td>2.311111</td>\n",
       "      <td>12.0000</td>\n",
       "      <td>18.838889</td>\n",
       "      <td>39.344444</td>\n",
       "    </tr>\n",
       "    <tr>\n",
       "      <th>Humidity</th>\n",
       "      <td>96453.0</td>\n",
       "      <td>0.734899</td>\n",
       "      <td>0.195473</td>\n",
       "      <td>0.000000</td>\n",
       "      <td>0.600000</td>\n",
       "      <td>0.7800</td>\n",
       "      <td>0.890000</td>\n",
       "      <td>1.000000</td>\n",
       "    </tr>\n",
       "    <tr>\n",
       "      <th>Wind Speed (km/h)</th>\n",
       "      <td>96453.0</td>\n",
       "      <td>10.810640</td>\n",
       "      <td>6.913571</td>\n",
       "      <td>0.000000</td>\n",
       "      <td>5.828200</td>\n",
       "      <td>9.9659</td>\n",
       "      <td>14.135800</td>\n",
       "      <td>63.852600</td>\n",
       "    </tr>\n",
       "    <tr>\n",
       "      <th>Wind Bearing (degrees)</th>\n",
       "      <td>96453.0</td>\n",
       "      <td>187.509232</td>\n",
       "      <td>107.383428</td>\n",
       "      <td>0.000000</td>\n",
       "      <td>116.000000</td>\n",
       "      <td>180.0000</td>\n",
       "      <td>290.000000</td>\n",
       "      <td>359.000000</td>\n",
       "    </tr>\n",
       "    <tr>\n",
       "      <th>Visibility (km)</th>\n",
       "      <td>96453.0</td>\n",
       "      <td>10.347325</td>\n",
       "      <td>4.192123</td>\n",
       "      <td>0.000000</td>\n",
       "      <td>8.339800</td>\n",
       "      <td>10.0464</td>\n",
       "      <td>14.812000</td>\n",
       "      <td>16.100000</td>\n",
       "    </tr>\n",
       "    <tr>\n",
       "      <th>Loud Cover</th>\n",
       "      <td>96453.0</td>\n",
       "      <td>0.000000</td>\n",
       "      <td>0.000000</td>\n",
       "      <td>0.000000</td>\n",
       "      <td>0.000000</td>\n",
       "      <td>0.0000</td>\n",
       "      <td>0.000000</td>\n",
       "      <td>0.000000</td>\n",
       "    </tr>\n",
       "    <tr>\n",
       "      <th>Pressure (millibars)</th>\n",
       "      <td>96453.0</td>\n",
       "      <td>1003.235956</td>\n",
       "      <td>116.969906</td>\n",
       "      <td>0.000000</td>\n",
       "      <td>1011.900000</td>\n",
       "      <td>1016.4500</td>\n",
       "      <td>1021.090000</td>\n",
       "      <td>1046.380000</td>\n",
       "    </tr>\n",
       "  </tbody>\n",
       "</table>\n",
       "</div>"
      ],
      "text/plain": [
       "                            count         mean         std        min  \\\n",
       "Temperature (C)           96453.0    11.932678    9.551546 -21.822222   \n",
       "Apparent Temperature (C)  96453.0    10.855029   10.696847 -27.716667   \n",
       "Humidity                  96453.0     0.734899    0.195473   0.000000   \n",
       "Wind Speed (km/h)         96453.0    10.810640    6.913571   0.000000   \n",
       "Wind Bearing (degrees)    96453.0   187.509232  107.383428   0.000000   \n",
       "Visibility (km)           96453.0    10.347325    4.192123   0.000000   \n",
       "Loud Cover                96453.0     0.000000    0.000000   0.000000   \n",
       "Pressure (millibars)      96453.0  1003.235956  116.969906   0.000000   \n",
       "\n",
       "                                  25%        50%          75%          max  \n",
       "Temperature (C)              4.688889    12.0000    18.838889    39.905556  \n",
       "Apparent Temperature (C)     2.311111    12.0000    18.838889    39.344444  \n",
       "Humidity                     0.600000     0.7800     0.890000     1.000000  \n",
       "Wind Speed (km/h)            5.828200     9.9659    14.135800    63.852600  \n",
       "Wind Bearing (degrees)     116.000000   180.0000   290.000000   359.000000  \n",
       "Visibility (km)              8.339800    10.0464    14.812000    16.100000  \n",
       "Loud Cover                   0.000000     0.0000     0.000000     0.000000  \n",
       "Pressure (millibars)      1011.900000  1016.4500  1021.090000  1046.380000  "
      ]
     },
     "execution_count": 7,
     "metadata": {},
     "output_type": "execute_result"
    }
   ],
   "source": [
    "weather.describe().transpose()"
   ]
  },
  {
   "cell_type": "code",
   "execution_count": 8,
   "metadata": {
    "collapsed": true
   },
   "outputs": [],
   "source": [
    "x_feat = weather[[ 'Humidity', 'Wind Speed (km/h)','Wind Bearing (degrees)', 'Visibility (km)']]"
   ]
  },
  {
   "cell_type": "code",
   "execution_count": 9,
   "metadata": {},
   "outputs": [],
   "source": [
    "y_label = weather['Temperature (C)']"
   ]
  },
  {
   "cell_type": "code",
   "execution_count": 10,
   "metadata": {
    "collapsed": true
   },
   "outputs": [],
   "source": [
    "from sklearn.model_selection import train_test_split"
   ]
  },
  {
   "cell_type": "code",
   "execution_count": 11,
   "metadata": {},
   "outputs": [],
   "source": [
    "X_train, X_test, y_train, y_test = train_test_split(x_feat, y_label, test_size=0.35, random_state=101)"
   ]
  },
  {
   "cell_type": "code",
   "execution_count": 12,
   "metadata": {},
   "outputs": [
    {
     "name": "stdout",
     "output_type": "stream",
     "text": [
      "(62694, 4)\n",
      "(33759, 4)\n",
      "(62694,)\n",
      "(33759,)\n"
     ]
    }
   ],
   "source": [
    "print(X_train.shape)\n",
    "print(X_test.shape)\n",
    "print(y_train.shape)\n",
    "print(y_test.shape)"
   ]
  },
  {
   "cell_type": "code",
   "execution_count": 13,
   "metadata": {},
   "outputs": [
    {
     "data": {
      "text/html": [
       "<div>\n",
       "<style>\n",
       "    .dataframe thead tr:only-child th {\n",
       "        text-align: right;\n",
       "    }\n",
       "\n",
       "    .dataframe thead th {\n",
       "        text-align: left;\n",
       "    }\n",
       "\n",
       "    .dataframe tbody tr th {\n",
       "        vertical-align: top;\n",
       "    }\n",
       "</style>\n",
       "<table border=\"1\" class=\"dataframe\">\n",
       "  <thead>\n",
       "    <tr style=\"text-align: right;\">\n",
       "      <th></th>\n",
       "      <th>Humidity</th>\n",
       "      <th>Wind Speed (km/h)</th>\n",
       "      <th>Wind Bearing (degrees)</th>\n",
       "      <th>Visibility (km)</th>\n",
       "    </tr>\n",
       "  </thead>\n",
       "  <tbody>\n",
       "    <tr>\n",
       "      <th>90126</th>\n",
       "      <td>0.93</td>\n",
       "      <td>22.1697</td>\n",
       "      <td>160.0</td>\n",
       "      <td>6.9874</td>\n",
       "    </tr>\n",
       "    <tr>\n",
       "      <th>75895</th>\n",
       "      <td>0.76</td>\n",
       "      <td>22.1375</td>\n",
       "      <td>11.0</td>\n",
       "      <td>9.9820</td>\n",
       "    </tr>\n",
       "    <tr>\n",
       "      <th>15315</th>\n",
       "      <td>0.79</td>\n",
       "      <td>11.1734</td>\n",
       "      <td>299.0</td>\n",
       "      <td>15.8263</td>\n",
       "    </tr>\n",
       "    <tr>\n",
       "      <th>89031</th>\n",
       "      <td>0.41</td>\n",
       "      <td>15.5526</td>\n",
       "      <td>131.0</td>\n",
       "      <td>16.1000</td>\n",
       "    </tr>\n",
       "    <tr>\n",
       "      <th>12752</th>\n",
       "      <td>0.47</td>\n",
       "      <td>5.5062</td>\n",
       "      <td>218.0</td>\n",
       "      <td>9.9820</td>\n",
       "    </tr>\n",
       "  </tbody>\n",
       "</table>\n",
       "</div>"
      ],
      "text/plain": [
       "       Humidity  Wind Speed (km/h)  Wind Bearing (degrees)  Visibility (km)\n",
       "90126      0.93            22.1697                   160.0           6.9874\n",
       "75895      0.76            22.1375                    11.0           9.9820\n",
       "15315      0.79            11.1734                   299.0          15.8263\n",
       "89031      0.41            15.5526                   131.0          16.1000\n",
       "12752      0.47             5.5062                   218.0           9.9820"
      ]
     },
     "execution_count": 13,
     "metadata": {},
     "output_type": "execute_result"
    }
   ],
   "source": [
    "X_train.head()"
   ]
  },
  {
   "cell_type": "code",
   "execution_count": 14,
   "metadata": {
    "collapsed": true
   },
   "outputs": [],
   "source": [
    "from sklearn.preprocessing import MinMaxScaler"
   ]
  },
  {
   "cell_type": "code",
   "execution_count": 15,
   "metadata": {
    "collapsed": true
   },
   "outputs": [],
   "source": [
    "scaler = MinMaxScaler()"
   ]
  },
  {
   "cell_type": "code",
   "execution_count": 16,
   "metadata": {
    "collapsed": true
   },
   "outputs": [],
   "source": [
    "#import numpy as np"
   ]
  },
  {
   "cell_type": "code",
   "execution_count": 17,
   "metadata": {},
   "outputs": [],
   "source": [
    "#X_train = np.asarray(X_train).reshape(-1, 1)"
   ]
  },
  {
   "cell_type": "code",
   "execution_count": 18,
   "metadata": {},
   "outputs": [
    {
     "data": {
      "text/plain": [
       "MinMaxScaler(copy=True, feature_range=(0, 1))"
      ]
     },
     "execution_count": 18,
     "metadata": {},
     "output_type": "execute_result"
    }
   ],
   "source": [
    "scaler.fit(X_train)"
   ]
  },
  {
   "cell_type": "code",
   "execution_count": 19,
   "metadata": {},
   "outputs": [],
   "source": [
    "X_train = pd.DataFrame(data=scaler.transform(X_train),columns=X_train.columns,index=X_train.index)"
   ]
  },
  {
   "cell_type": "code",
   "execution_count": 20,
   "metadata": {},
   "outputs": [
    {
     "data": {
      "text/html": [
       "<div>\n",
       "<style>\n",
       "    .dataframe thead tr:only-child th {\n",
       "        text-align: right;\n",
       "    }\n",
       "\n",
       "    .dataframe thead th {\n",
       "        text-align: left;\n",
       "    }\n",
       "\n",
       "    .dataframe tbody tr th {\n",
       "        vertical-align: top;\n",
       "    }\n",
       "</style>\n",
       "<table border=\"1\" class=\"dataframe\">\n",
       "  <thead>\n",
       "    <tr style=\"text-align: right;\">\n",
       "      <th></th>\n",
       "      <th>Humidity</th>\n",
       "      <th>Wind Speed (km/h)</th>\n",
       "      <th>Wind Bearing (degrees)</th>\n",
       "      <th>Visibility (km)</th>\n",
       "    </tr>\n",
       "  </thead>\n",
       "  <tbody>\n",
       "    <tr>\n",
       "      <th>90126</th>\n",
       "      <td>0.93</td>\n",
       "      <td>0.347201</td>\n",
       "      <td>0.445682</td>\n",
       "      <td>0.434</td>\n",
       "    </tr>\n",
       "    <tr>\n",
       "      <th>75895</th>\n",
       "      <td>0.76</td>\n",
       "      <td>0.346697</td>\n",
       "      <td>0.030641</td>\n",
       "      <td>0.620</td>\n",
       "    </tr>\n",
       "    <tr>\n",
       "      <th>15315</th>\n",
       "      <td>0.79</td>\n",
       "      <td>0.174987</td>\n",
       "      <td>0.832869</td>\n",
       "      <td>0.983</td>\n",
       "    </tr>\n",
       "    <tr>\n",
       "      <th>89031</th>\n",
       "      <td>0.41</td>\n",
       "      <td>0.243570</td>\n",
       "      <td>0.364903</td>\n",
       "      <td>1.000</td>\n",
       "    </tr>\n",
       "    <tr>\n",
       "      <th>12752</th>\n",
       "      <td>0.47</td>\n",
       "      <td>0.086233</td>\n",
       "      <td>0.607242</td>\n",
       "      <td>0.620</td>\n",
       "    </tr>\n",
       "  </tbody>\n",
       "</table>\n",
       "</div>"
      ],
      "text/plain": [
       "       Humidity  Wind Speed (km/h)  Wind Bearing (degrees)  Visibility (km)\n",
       "90126      0.93           0.347201                0.445682            0.434\n",
       "75895      0.76           0.346697                0.030641            0.620\n",
       "15315      0.79           0.174987                0.832869            0.983\n",
       "89031      0.41           0.243570                0.364903            1.000\n",
       "12752      0.47           0.086233                0.607242            0.620"
      ]
     },
     "execution_count": 20,
     "metadata": {},
     "output_type": "execute_result"
    }
   ],
   "source": [
    "X_train.head()"
   ]
  },
  {
   "cell_type": "code",
   "execution_count": 21,
   "metadata": {
    "collapsed": true
   },
   "outputs": [],
   "source": [
    "#X_test = np.asarray(X_test).reshape(-1, 1)"
   ]
  },
  {
   "cell_type": "code",
   "execution_count": 22,
   "metadata": {},
   "outputs": [],
   "source": [
    "X_test = pd.DataFrame(data=scaler.transform(X_test),columns=X_test.columns,index=X_test.index)"
   ]
  },
  {
   "cell_type": "code",
   "execution_count": 23,
   "metadata": {
    "collapsed": true
   },
   "outputs": [],
   "source": [
    "import tensorflow as tf"
   ]
  },
  {
   "cell_type": "code",
   "execution_count": 24,
   "metadata": {},
   "outputs": [
    {
     "data": {
      "text/plain": [
       "Index(['Formatted Date', 'Summary', 'Precip Type', 'Temperature (C)',\n",
       "       'Apparent Temperature (C)', 'Humidity', 'Wind Speed (km/h)',\n",
       "       'Wind Bearing (degrees)', 'Visibility (km)', 'Loud Cover',\n",
       "       'Pressure (millibars)', 'Daily Summary'],\n",
       "      dtype='object')"
      ]
     },
     "execution_count": 24,
     "metadata": {},
     "output_type": "execute_result"
    }
   ],
   "source": [
    "weather.columns"
   ]
  },
  {
   "cell_type": "code",
   "execution_count": 25,
   "metadata": {
    "collapsed": true
   },
   "outputs": [],
   "source": [
    "humidity = tf.feature_column.numeric_column('Humidity')\n",
    "WS = tf.feature_column.numeric_column('Wind Speed (km/h)')\n",
    "WB = tf.feature_column.numeric_column('Wind Bearing (degrees)')\n",
    "VB = tf.feature_column.numeric_column('Visibility (km)')"
   ]
  },
  {
   "cell_type": "code",
   "execution_count": 27,
   "metadata": {},
   "outputs": [],
   "source": [
    "feat_cols = [humidity,WS,WB,VB]"
   ]
  },
  {
   "cell_type": "code",
   "execution_count": 28,
   "metadata": {},
   "outputs": [],
   "source": [
    "input_func = tf.estimator.inputs.pandas_input_fn(x=X_train,\n",
    "                                                 y=y_train,\n",
    "                                                 batch_size=10\n",
    "                                                 num_epochs=100,\n",
    "                                                 shuffle=True)"
   ]
  },
  {
   "cell_type": "code",
   "execution_count": 29,
   "metadata": {},
   "outputs": [
    {
     "name": "stdout",
     "output_type": "stream",
     "text": [
      "INFO:tensorflow:Using default config.\n",
      "WARNING:tensorflow:Using temporary folder as model directory: C:\\Users\\rhasan\\AppData\\Local\\Temp\\tmpyyzewb2b\n",
      "INFO:tensorflow:Using config: {'_save_checkpoints_steps': None, '_save_checkpoints_secs': 600, '_tf_random_seed': 1, '_model_dir': 'C:\\\\Users\\\\rhasan\\\\AppData\\\\Local\\\\Temp\\\\tmpyyzewb2b', '_save_summary_steps': 100, '_session_config': None, '_keep_checkpoint_max': 5, '_log_step_count_steps': 100, '_keep_checkpoint_every_n_hours': 10000}\n"
     ]
    }
   ],
   "source": [
    "model = tf.estimator.DNNRegressor(hidden_units=[6,3,6], feature_columns=feat_cols)"
   ]
  },
  {
   "cell_type": "code",
   "execution_count": 30,
   "metadata": {},
   "outputs": [
    {
     "ename": "ValueError",
     "evalue": "'Visibility (km)' is not a valid scope name",
     "output_type": "error",
     "traceback": [
      "\u001b[1;31m---------------------------------------------------------------------------\u001b[0m",
      "\u001b[1;31mValueError\u001b[0m                                Traceback (most recent call last)",
      "\u001b[1;32m<ipython-input-30-e181fcc2f57e>\u001b[0m in \u001b[0;36m<module>\u001b[1;34m()\u001b[0m\n\u001b[0;32m      1\u001b[0m \u001b[1;31m#train the model\u001b[0m\u001b[1;33m\u001b[0m\u001b[1;33m\u001b[0m\u001b[0m\n\u001b[1;32m----> 2\u001b[1;33m \u001b[0mmodel\u001b[0m\u001b[1;33m.\u001b[0m\u001b[0mtrain\u001b[0m\u001b[1;33m(\u001b[0m\u001b[0minput_fn\u001b[0m\u001b[1;33m=\u001b[0m\u001b[0minput_func\u001b[0m\u001b[1;33m,\u001b[0m\u001b[0msteps\u001b[0m\u001b[1;33m=\u001b[0m\u001b[1;36m2500\u001b[0m\u001b[1;33m)\u001b[0m\u001b[1;33m\u001b[0m\u001b[0m\n\u001b[0m",
      "\u001b[1;32m~\\AppData\\Local\\Continuum\\Anaconda3\\envs\\tfdeeplearning\\lib\\site-packages\\tensorflow\\python\\estimator\\estimator.py\u001b[0m in \u001b[0;36mtrain\u001b[1;34m(self, input_fn, hooks, steps, max_steps)\u001b[0m\n\u001b[0;32m    239\u001b[0m       \u001b[0mhooks\u001b[0m\u001b[1;33m.\u001b[0m\u001b[0mappend\u001b[0m\u001b[1;33m(\u001b[0m\u001b[0mtraining\u001b[0m\u001b[1;33m.\u001b[0m\u001b[0mStopAtStepHook\u001b[0m\u001b[1;33m(\u001b[0m\u001b[0msteps\u001b[0m\u001b[1;33m,\u001b[0m \u001b[0mmax_steps\u001b[0m\u001b[1;33m)\u001b[0m\u001b[1;33m)\u001b[0m\u001b[1;33m\u001b[0m\u001b[0m\n\u001b[0;32m    240\u001b[0m \u001b[1;33m\u001b[0m\u001b[0m\n\u001b[1;32m--> 241\u001b[1;33m     \u001b[0mloss\u001b[0m \u001b[1;33m=\u001b[0m \u001b[0mself\u001b[0m\u001b[1;33m.\u001b[0m\u001b[0m_train_model\u001b[0m\u001b[1;33m(\u001b[0m\u001b[0minput_fn\u001b[0m\u001b[1;33m=\u001b[0m\u001b[0minput_fn\u001b[0m\u001b[1;33m,\u001b[0m \u001b[0mhooks\u001b[0m\u001b[1;33m=\u001b[0m\u001b[0mhooks\u001b[0m\u001b[1;33m)\u001b[0m\u001b[1;33m\u001b[0m\u001b[0m\n\u001b[0m\u001b[0;32m    242\u001b[0m     \u001b[0mlogging\u001b[0m\u001b[1;33m.\u001b[0m\u001b[0minfo\u001b[0m\u001b[1;33m(\u001b[0m\u001b[1;34m'Loss for final step: %s.'\u001b[0m\u001b[1;33m,\u001b[0m \u001b[0mloss\u001b[0m\u001b[1;33m)\u001b[0m\u001b[1;33m\u001b[0m\u001b[0m\n\u001b[0;32m    243\u001b[0m     \u001b[1;32mreturn\u001b[0m \u001b[0mself\u001b[0m\u001b[1;33m\u001b[0m\u001b[0m\n",
      "\u001b[1;32m~\\AppData\\Local\\Continuum\\Anaconda3\\envs\\tfdeeplearning\\lib\\site-packages\\tensorflow\\python\\estimator\\estimator.py\u001b[0m in \u001b[0;36m_train_model\u001b[1;34m(self, input_fn, hooks)\u001b[0m\n\u001b[0;32m    628\u001b[0m           input_fn, model_fn_lib.ModeKeys.TRAIN)\n\u001b[0;32m    629\u001b[0m       estimator_spec = self._call_model_fn(features, labels,\n\u001b[1;32m--> 630\u001b[1;33m                                            model_fn_lib.ModeKeys.TRAIN)\n\u001b[0m\u001b[0;32m    631\u001b[0m       \u001b[0mops\u001b[0m\u001b[1;33m.\u001b[0m\u001b[0madd_to_collection\u001b[0m\u001b[1;33m(\u001b[0m\u001b[0mops\u001b[0m\u001b[1;33m.\u001b[0m\u001b[0mGraphKeys\u001b[0m\u001b[1;33m.\u001b[0m\u001b[0mLOSSES\u001b[0m\u001b[1;33m,\u001b[0m \u001b[0mestimator_spec\u001b[0m\u001b[1;33m.\u001b[0m\u001b[0mloss\u001b[0m\u001b[1;33m)\u001b[0m\u001b[1;33m\u001b[0m\u001b[0m\n\u001b[0;32m    632\u001b[0m       \u001b[0mall_hooks\u001b[0m\u001b[1;33m.\u001b[0m\u001b[0mextend\u001b[0m\u001b[1;33m(\u001b[0m\u001b[0mhooks\u001b[0m\u001b[1;33m)\u001b[0m\u001b[1;33m\u001b[0m\u001b[0m\n",
      "\u001b[1;32m~\\AppData\\Local\\Continuum\\Anaconda3\\envs\\tfdeeplearning\\lib\\site-packages\\tensorflow\\python\\estimator\\estimator.py\u001b[0m in \u001b[0;36m_call_model_fn\u001b[1;34m(self, features, labels, mode)\u001b[0m\n\u001b[0;32m    613\u001b[0m     \u001b[1;32mif\u001b[0m \u001b[1;34m'config'\u001b[0m \u001b[1;32min\u001b[0m \u001b[0mmodel_fn_args\u001b[0m\u001b[1;33m:\u001b[0m\u001b[1;33m\u001b[0m\u001b[0m\n\u001b[0;32m    614\u001b[0m       \u001b[0mkwargs\u001b[0m\u001b[1;33m[\u001b[0m\u001b[1;34m'config'\u001b[0m\u001b[1;33m]\u001b[0m \u001b[1;33m=\u001b[0m \u001b[0mself\u001b[0m\u001b[1;33m.\u001b[0m\u001b[0mconfig\u001b[0m\u001b[1;33m\u001b[0m\u001b[0m\n\u001b[1;32m--> 615\u001b[1;33m     \u001b[0mmodel_fn_results\u001b[0m \u001b[1;33m=\u001b[0m \u001b[0mself\u001b[0m\u001b[1;33m.\u001b[0m\u001b[0m_model_fn\u001b[0m\u001b[1;33m(\u001b[0m\u001b[0mfeatures\u001b[0m\u001b[1;33m=\u001b[0m\u001b[0mfeatures\u001b[0m\u001b[1;33m,\u001b[0m \u001b[1;33m**\u001b[0m\u001b[0mkwargs\u001b[0m\u001b[1;33m)\u001b[0m\u001b[1;33m\u001b[0m\u001b[0m\n\u001b[0m\u001b[0;32m    616\u001b[0m \u001b[1;33m\u001b[0m\u001b[0m\n\u001b[0;32m    617\u001b[0m     \u001b[1;32mif\u001b[0m \u001b[1;32mnot\u001b[0m \u001b[0misinstance\u001b[0m\u001b[1;33m(\u001b[0m\u001b[0mmodel_fn_results\u001b[0m\u001b[1;33m,\u001b[0m \u001b[0mmodel_fn_lib\u001b[0m\u001b[1;33m.\u001b[0m\u001b[0mEstimatorSpec\u001b[0m\u001b[1;33m)\u001b[0m\u001b[1;33m:\u001b[0m\u001b[1;33m\u001b[0m\u001b[0m\n",
      "\u001b[1;32m~\\AppData\\Local\\Continuum\\Anaconda3\\envs\\tfdeeplearning\\lib\\site-packages\\tensorflow\\python\\estimator\\canned\\dnn.py\u001b[0m in \u001b[0;36m_model_fn\u001b[1;34m(features, labels, mode, config)\u001b[0m\n\u001b[0;32m    389\u001b[0m           \u001b[0mdropout\u001b[0m\u001b[1;33m=\u001b[0m\u001b[0mdropout\u001b[0m\u001b[1;33m,\u001b[0m\u001b[1;33m\u001b[0m\u001b[0m\n\u001b[0;32m    390\u001b[0m           \u001b[0minput_layer_partitioner\u001b[0m\u001b[1;33m=\u001b[0m\u001b[0minput_layer_partitioner\u001b[0m\u001b[1;33m,\u001b[0m\u001b[1;33m\u001b[0m\u001b[0m\n\u001b[1;32m--> 391\u001b[1;33m           config=config)\n\u001b[0m\u001b[0;32m    392\u001b[0m     super(DNNRegressor, self).__init__(\n\u001b[0;32m    393\u001b[0m         model_fn=_model_fn, model_dir=model_dir, config=config)\n",
      "\u001b[1;32m~\\AppData\\Local\\Continuum\\Anaconda3\\envs\\tfdeeplearning\\lib\\site-packages\\tensorflow\\python\\estimator\\canned\\dnn.py\u001b[0m in \u001b[0;36m_dnn_model_fn\u001b[1;34m(features, labels, mode, head, hidden_units, feature_columns, optimizer, activation_fn, dropout, input_layer_partitioner, config)\u001b[0m\n\u001b[0;32m    100\u001b[0m       net = feature_column_lib.input_layer(\n\u001b[0;32m    101\u001b[0m           \u001b[0mfeatures\u001b[0m\u001b[1;33m=\u001b[0m\u001b[0mfeatures\u001b[0m\u001b[1;33m,\u001b[0m\u001b[1;33m\u001b[0m\u001b[0m\n\u001b[1;32m--> 102\u001b[1;33m           feature_columns=feature_columns)\n\u001b[0m\u001b[0;32m    103\u001b[0m \u001b[1;33m\u001b[0m\u001b[0m\n\u001b[0;32m    104\u001b[0m     \u001b[1;32mfor\u001b[0m \u001b[0mlayer_id\u001b[0m\u001b[1;33m,\u001b[0m \u001b[0mnum_hidden_units\u001b[0m \u001b[1;32min\u001b[0m \u001b[0menumerate\u001b[0m\u001b[1;33m(\u001b[0m\u001b[0mhidden_units\u001b[0m\u001b[1;33m)\u001b[0m\u001b[1;33m:\u001b[0m\u001b[1;33m\u001b[0m\u001b[0m\n",
      "\u001b[1;32m~\\AppData\\Local\\Continuum\\Anaconda3\\envs\\tfdeeplearning\\lib\\site-packages\\tensorflow\\python\\feature_column\\feature_column.py\u001b[0m in \u001b[0;36minput_layer\u001b[1;34m(features, feature_columns, weight_collections, trainable)\u001b[0m\n\u001b[0;32m    224\u001b[0m     \u001b[1;32mfor\u001b[0m \u001b[0mcolumn\u001b[0m \u001b[1;32min\u001b[0m \u001b[0msorted\u001b[0m\u001b[1;33m(\u001b[0m\u001b[0mfeature_columns\u001b[0m\u001b[1;33m,\u001b[0m \u001b[0mkey\u001b[0m\u001b[1;33m=\u001b[0m\u001b[1;32mlambda\u001b[0m \u001b[0mx\u001b[0m\u001b[1;33m:\u001b[0m \u001b[0mx\u001b[0m\u001b[1;33m.\u001b[0m\u001b[0mname\u001b[0m\u001b[1;33m)\u001b[0m\u001b[1;33m:\u001b[0m\u001b[1;33m\u001b[0m\u001b[0m\n\u001b[0;32m    225\u001b[0m       \u001b[0mordered_columns\u001b[0m\u001b[1;33m.\u001b[0m\u001b[0mappend\u001b[0m\u001b[1;33m(\u001b[0m\u001b[0mcolumn\u001b[0m\u001b[1;33m)\u001b[0m\u001b[1;33m\u001b[0m\u001b[0m\n\u001b[1;32m--> 226\u001b[1;33m       \u001b[1;32mwith\u001b[0m \u001b[0mvariable_scope\u001b[0m\u001b[1;33m.\u001b[0m\u001b[0mvariable_scope\u001b[0m\u001b[1;33m(\u001b[0m\u001b[1;32mNone\u001b[0m\u001b[1;33m,\u001b[0m \u001b[0mdefault_name\u001b[0m\u001b[1;33m=\u001b[0m\u001b[0mcolumn\u001b[0m\u001b[1;33m.\u001b[0m\u001b[0mname\u001b[0m\u001b[1;33m)\u001b[0m\u001b[1;33m:\u001b[0m\u001b[1;33m\u001b[0m\u001b[0m\n\u001b[0m\u001b[0;32m    227\u001b[0m         tensor = column._get_dense_tensor(  # pylint: disable=protected-access\n\u001b[0;32m    228\u001b[0m             \u001b[0mbuilder\u001b[0m\u001b[1;33m,\u001b[0m\u001b[1;33m\u001b[0m\u001b[0m\n",
      "\u001b[1;32m~\\AppData\\Local\\Continuum\\Anaconda3\\envs\\tfdeeplearning\\lib\\contextlib.py\u001b[0m in \u001b[0;36m__enter__\u001b[1;34m(self)\u001b[0m\n\u001b[0;32m     57\u001b[0m     \u001b[1;32mdef\u001b[0m \u001b[0m__enter__\u001b[0m\u001b[1;33m(\u001b[0m\u001b[0mself\u001b[0m\u001b[1;33m)\u001b[0m\u001b[1;33m:\u001b[0m\u001b[1;33m\u001b[0m\u001b[0m\n\u001b[0;32m     58\u001b[0m         \u001b[1;32mtry\u001b[0m\u001b[1;33m:\u001b[0m\u001b[1;33m\u001b[0m\u001b[0m\n\u001b[1;32m---> 59\u001b[1;33m             \u001b[1;32mreturn\u001b[0m \u001b[0mnext\u001b[0m\u001b[1;33m(\u001b[0m\u001b[0mself\u001b[0m\u001b[1;33m.\u001b[0m\u001b[0mgen\u001b[0m\u001b[1;33m)\u001b[0m\u001b[1;33m\u001b[0m\u001b[0m\n\u001b[0m\u001b[0;32m     60\u001b[0m         \u001b[1;32mexcept\u001b[0m \u001b[0mStopIteration\u001b[0m\u001b[1;33m:\u001b[0m\u001b[1;33m\u001b[0m\u001b[0m\n\u001b[0;32m     61\u001b[0m             \u001b[1;32mraise\u001b[0m \u001b[0mRuntimeError\u001b[0m\u001b[1;33m(\u001b[0m\u001b[1;34m\"generator didn't yield\"\u001b[0m\u001b[1;33m)\u001b[0m \u001b[1;32mfrom\u001b[0m \u001b[1;32mNone\u001b[0m\u001b[1;33m\u001b[0m\u001b[0m\n",
      "\u001b[1;32m~\\AppData\\Local\\Continuum\\Anaconda3\\envs\\tfdeeplearning\\lib\\site-packages\\tensorflow\\python\\ops\\variable_scope.py\u001b[0m in \u001b[0;36mvariable_scope\u001b[1;34m(name_or_scope, default_name, values, initializer, regularizer, caching_device, partitioner, custom_getter, reuse, dtype, use_resource)\u001b[0m\n\u001b[0;32m   1586\u001b[0m       \u001b[1;32mif\u001b[0m \u001b[0mreuse\u001b[0m\u001b[1;33m:\u001b[0m\u001b[1;33m\u001b[0m\u001b[0m\n\u001b[0;32m   1587\u001b[0m         \u001b[1;32mraise\u001b[0m \u001b[0mValueError\u001b[0m\u001b[1;33m(\u001b[0m\u001b[1;34m\"reuse=True cannot be used without a name_or_scope\"\u001b[0m\u001b[1;33m)\u001b[0m\u001b[1;33m\u001b[0m\u001b[0m\n\u001b[1;32m-> 1588\u001b[1;33m       \u001b[1;32mwith\u001b[0m \u001b[0mops\u001b[0m\u001b[1;33m.\u001b[0m\u001b[0mname_scope\u001b[0m\u001b[1;33m(\u001b[0m\u001b[0mdefault_name\u001b[0m\u001b[1;33m)\u001b[0m \u001b[1;32mas\u001b[0m \u001b[0mscope\u001b[0m\u001b[1;33m:\u001b[0m\u001b[1;33m\u001b[0m\u001b[0m\n\u001b[0m\u001b[0;32m   1589\u001b[0m         \u001b[0munique_default_name\u001b[0m \u001b[1;33m=\u001b[0m \u001b[0m_get_unique_variable_scope\u001b[0m\u001b[1;33m(\u001b[0m\u001b[0mdefault_name\u001b[0m\u001b[1;33m)\u001b[0m\u001b[1;33m\u001b[0m\u001b[0m\n\u001b[0;32m   1590\u001b[0m         with _pure_variable_scope(\n",
      "\u001b[1;32m~\\AppData\\Local\\Continuum\\Anaconda3\\envs\\tfdeeplearning\\lib\\contextlib.py\u001b[0m in \u001b[0;36m__enter__\u001b[1;34m(self)\u001b[0m\n\u001b[0;32m     57\u001b[0m     \u001b[1;32mdef\u001b[0m \u001b[0m__enter__\u001b[0m\u001b[1;33m(\u001b[0m\u001b[0mself\u001b[0m\u001b[1;33m)\u001b[0m\u001b[1;33m:\u001b[0m\u001b[1;33m\u001b[0m\u001b[0m\n\u001b[0;32m     58\u001b[0m         \u001b[1;32mtry\u001b[0m\u001b[1;33m:\u001b[0m\u001b[1;33m\u001b[0m\u001b[0m\n\u001b[1;32m---> 59\u001b[1;33m             \u001b[1;32mreturn\u001b[0m \u001b[0mnext\u001b[0m\u001b[1;33m(\u001b[0m\u001b[0mself\u001b[0m\u001b[1;33m.\u001b[0m\u001b[0mgen\u001b[0m\u001b[1;33m)\u001b[0m\u001b[1;33m\u001b[0m\u001b[0m\n\u001b[0m\u001b[0;32m     60\u001b[0m         \u001b[1;32mexcept\u001b[0m \u001b[0mStopIteration\u001b[0m\u001b[1;33m:\u001b[0m\u001b[1;33m\u001b[0m\u001b[0m\n\u001b[0;32m     61\u001b[0m             \u001b[1;32mraise\u001b[0m \u001b[0mRuntimeError\u001b[0m\u001b[1;33m(\u001b[0m\u001b[1;34m\"generator didn't yield\"\u001b[0m\u001b[1;33m)\u001b[0m \u001b[1;32mfrom\u001b[0m \u001b[1;32mNone\u001b[0m\u001b[1;33m\u001b[0m\u001b[0m\n",
      "\u001b[1;32m~\\AppData\\Local\\Continuum\\Anaconda3\\envs\\tfdeeplearning\\lib\\site-packages\\tensorflow\\python\\framework\\ops.py\u001b[0m in \u001b[0;36mname_scope\u001b[1;34m(name, default_name, values)\u001b[0m\n\u001b[0;32m   4520\u001b[0m     \u001b[0mvalues\u001b[0m \u001b[1;33m=\u001b[0m \u001b[1;33m[\u001b[0m\u001b[1;33m]\u001b[0m\u001b[1;33m\u001b[0m\u001b[0m\n\u001b[0;32m   4521\u001b[0m   \u001b[0mg\u001b[0m \u001b[1;33m=\u001b[0m \u001b[0m_get_graph_from_inputs\u001b[0m\u001b[1;33m(\u001b[0m\u001b[0mvalues\u001b[0m\u001b[1;33m)\u001b[0m\u001b[1;33m\u001b[0m\u001b[0m\n\u001b[1;32m-> 4522\u001b[1;33m   \u001b[1;32mwith\u001b[0m \u001b[0mg\u001b[0m\u001b[1;33m.\u001b[0m\u001b[0mas_default\u001b[0m\u001b[1;33m(\u001b[0m\u001b[1;33m)\u001b[0m\u001b[1;33m,\u001b[0m \u001b[0mg\u001b[0m\u001b[1;33m.\u001b[0m\u001b[0mname_scope\u001b[0m\u001b[1;33m(\u001b[0m\u001b[0mn\u001b[0m\u001b[1;33m)\u001b[0m \u001b[1;32mas\u001b[0m \u001b[0mscope\u001b[0m\u001b[1;33m:\u001b[0m\u001b[1;33m\u001b[0m\u001b[0m\n\u001b[0m\u001b[0;32m   4523\u001b[0m     \u001b[1;32myield\u001b[0m \u001b[0mscope\u001b[0m\u001b[1;33m\u001b[0m\u001b[0m\n\u001b[0;32m   4524\u001b[0m \u001b[1;31m# pylint: enable=g-doc-return-or-yield\u001b[0m\u001b[1;33m\u001b[0m\u001b[1;33m\u001b[0m\u001b[0m\n",
      "\u001b[1;32m~\\AppData\\Local\\Continuum\\Anaconda3\\envs\\tfdeeplearning\\lib\\contextlib.py\u001b[0m in \u001b[0;36m__enter__\u001b[1;34m(self)\u001b[0m\n\u001b[0;32m     57\u001b[0m     \u001b[1;32mdef\u001b[0m \u001b[0m__enter__\u001b[0m\u001b[1;33m(\u001b[0m\u001b[0mself\u001b[0m\u001b[1;33m)\u001b[0m\u001b[1;33m:\u001b[0m\u001b[1;33m\u001b[0m\u001b[0m\n\u001b[0;32m     58\u001b[0m         \u001b[1;32mtry\u001b[0m\u001b[1;33m:\u001b[0m\u001b[1;33m\u001b[0m\u001b[0m\n\u001b[1;32m---> 59\u001b[1;33m             \u001b[1;32mreturn\u001b[0m \u001b[0mnext\u001b[0m\u001b[1;33m(\u001b[0m\u001b[0mself\u001b[0m\u001b[1;33m.\u001b[0m\u001b[0mgen\u001b[0m\u001b[1;33m)\u001b[0m\u001b[1;33m\u001b[0m\u001b[0m\n\u001b[0m\u001b[0;32m     60\u001b[0m         \u001b[1;32mexcept\u001b[0m \u001b[0mStopIteration\u001b[0m\u001b[1;33m:\u001b[0m\u001b[1;33m\u001b[0m\u001b[0m\n\u001b[0;32m     61\u001b[0m             \u001b[1;32mraise\u001b[0m \u001b[0mRuntimeError\u001b[0m\u001b[1;33m(\u001b[0m\u001b[1;34m\"generator didn't yield\"\u001b[0m\u001b[1;33m)\u001b[0m \u001b[1;32mfrom\u001b[0m \u001b[1;32mNone\u001b[0m\u001b[1;33m\u001b[0m\u001b[0m\n",
      "\u001b[1;32m~\\AppData\\Local\\Continuum\\Anaconda3\\envs\\tfdeeplearning\\lib\\site-packages\\tensorflow\\python\\framework\\ops.py\u001b[0m in \u001b[0;36mname_scope\u001b[1;34m(self, name)\u001b[0m\n\u001b[0;32m   3165\u001b[0m         \u001b[1;31m# (viz. '-', '\\', '/', and '_').\u001b[0m\u001b[1;33m\u001b[0m\u001b[1;33m\u001b[0m\u001b[0m\n\u001b[0;32m   3166\u001b[0m         \u001b[1;32mif\u001b[0m \u001b[1;32mnot\u001b[0m \u001b[0m_VALID_SCOPE_NAME_REGEX\u001b[0m\u001b[1;33m.\u001b[0m\u001b[0mmatch\u001b[0m\u001b[1;33m(\u001b[0m\u001b[0mname\u001b[0m\u001b[1;33m)\u001b[0m\u001b[1;33m:\u001b[0m\u001b[1;33m\u001b[0m\u001b[0m\n\u001b[1;32m-> 3167\u001b[1;33m           \u001b[1;32mraise\u001b[0m \u001b[0mValueError\u001b[0m\u001b[1;33m(\u001b[0m\u001b[1;34m\"'%s' is not a valid scope name\"\u001b[0m \u001b[1;33m%\u001b[0m \u001b[0mname\u001b[0m\u001b[1;33m)\u001b[0m\u001b[1;33m\u001b[0m\u001b[0m\n\u001b[0m\u001b[0;32m   3168\u001b[0m       \u001b[1;32melse\u001b[0m\u001b[1;33m:\u001b[0m\u001b[1;33m\u001b[0m\u001b[0m\n\u001b[0;32m   3169\u001b[0m         \u001b[1;31m# Scopes created in the root must match the more restrictive\u001b[0m\u001b[1;33m\u001b[0m\u001b[1;33m\u001b[0m\u001b[0m\n",
      "\u001b[1;31mValueError\u001b[0m: 'Visibility (km)' is not a valid scope name"
     ]
    }
   ],
   "source": [
    "#train the model\n",
    "model.train(input_fn=input_func,steps=2500)"
   ]
  },
  {
   "cell_type": "code",
   "execution_count": null,
   "metadata": {
    "collapsed": true
   },
   "outputs": [],
   "source": []
  }
 ],
 "metadata": {
  "kernelspec": {
   "display_name": "Python 3",
   "language": "python",
   "name": "python3"
  },
  "language_info": {
   "codemirror_mode": {
    "name": "ipython",
    "version": 3
   },
   "file_extension": ".py",
   "mimetype": "text/x-python",
   "name": "python",
   "nbconvert_exporter": "python",
   "pygments_lexer": "ipython3",
   "version": "3.5.4"
  }
 },
 "nbformat": 4,
 "nbformat_minor": 2
}
